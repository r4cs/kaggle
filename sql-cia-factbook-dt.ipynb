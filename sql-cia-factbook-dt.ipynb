{
 "cells": [
  {
   "cell_type": "markdown",
   "id": "f9a75a61",
   "metadata": {
    "papermill": {
     "duration": 0.010199,
     "end_time": "2022-06-20T19:34:01.742557",
     "exception": false,
     "start_time": "2022-06-20T19:34:01.732358",
     "status": "completed"
    },
    "tags": []
   },
   "source": [
    "# Requirements for sql in kaggle"
   ]
  },
  {
   "cell_type": "code",
   "execution_count": 1,
   "id": "b7deeb06",
   "metadata": {
    "execution": {
     "iopub.execute_input": "2022-06-20T19:34:01.764118Z",
     "iopub.status.busy": "2022-06-20T19:34:01.763013Z",
     "iopub.status.idle": "2022-06-20T19:34:34.364531Z",
     "shell.execute_reply": "2022-06-20T19:34:34.363252Z"
    },
    "papermill": {
     "duration": 32.615745,
     "end_time": "2022-06-20T19:34:34.367615",
     "exception": false,
     "start_time": "2022-06-20T19:34:01.751870",
     "status": "completed"
    },
    "tags": []
   },
   "outputs": [
    {
     "name": "stdout",
     "output_type": "stream",
     "text": [
      "Requirement already satisfied: ipython-sql in /opt/conda/lib/python3.7/site-packages (0.3.9)\r\n",
      "Requirement already satisfied: sqlparse in /opt/conda/lib/python3.7/site-packages (from ipython-sql) (0.4.2)\r\n",
      "Requirement already satisfied: ipython>=1.0 in /opt/conda/lib/python3.7/site-packages (from ipython-sql) (7.33.0)\r\n",
      "Requirement already satisfied: six in /opt/conda/lib/python3.7/site-packages (from ipython-sql) (1.16.0)\r\n",
      "Requirement already satisfied: sqlalchemy>=0.6.7 in /opt/conda/lib/python3.7/site-packages (from ipython-sql) (1.4.36)\r\n",
      "Requirement already satisfied: ipython-genutils>=0.1.0 in /opt/conda/lib/python3.7/site-packages (from ipython-sql) (0.2.0)\r\n",
      "Requirement already satisfied: prettytable in /opt/conda/lib/python3.7/site-packages (from ipython-sql) (3.3.0)\r\n",
      "Requirement already satisfied: decorator in /opt/conda/lib/python3.7/site-packages (from ipython>=1.0->ipython-sql) (5.1.1)\r\n",
      "Requirement already satisfied: traitlets>=4.2 in /opt/conda/lib/python3.7/site-packages (from ipython>=1.0->ipython-sql) (5.2.0)\r\n",
      "Requirement already satisfied: pickleshare in /opt/conda/lib/python3.7/site-packages (from ipython>=1.0->ipython-sql) (0.7.5)\r\n",
      "Requirement already satisfied: jedi>=0.16 in /opt/conda/lib/python3.7/site-packages (from ipython>=1.0->ipython-sql) (0.18.1)\r\n",
      "Requirement already satisfied: backcall in /opt/conda/lib/python3.7/site-packages (from ipython>=1.0->ipython-sql) (0.2.0)\r\n",
      "Requirement already satisfied: pygments in /opt/conda/lib/python3.7/site-packages (from ipython>=1.0->ipython-sql) (2.12.0)\r\n",
      "Requirement already satisfied: setuptools>=18.5 in /opt/conda/lib/python3.7/site-packages (from ipython>=1.0->ipython-sql) (59.8.0)\r\n",
      "Requirement already satisfied: pexpect>4.3 in /opt/conda/lib/python3.7/site-packages (from ipython>=1.0->ipython-sql) (4.8.0)\r\n",
      "Requirement already satisfied: matplotlib-inline in /opt/conda/lib/python3.7/site-packages (from ipython>=1.0->ipython-sql) (0.1.3)\r\n",
      "Requirement already satisfied: prompt-toolkit!=3.0.0,!=3.0.1,<3.1.0,>=2.0.0 in /opt/conda/lib/python3.7/site-packages (from ipython>=1.0->ipython-sql) (3.0.29)\r\n",
      "Requirement already satisfied: importlib-metadata in /opt/conda/lib/python3.7/site-packages (from sqlalchemy>=0.6.7->ipython-sql) (4.11.4)\r\n",
      "Requirement already satisfied: greenlet!=0.4.17 in /opt/conda/lib/python3.7/site-packages (from sqlalchemy>=0.6.7->ipython-sql) (1.1.2)\r\n",
      "Requirement already satisfied: wcwidth in /opt/conda/lib/python3.7/site-packages (from prettytable->ipython-sql) (0.2.5)\r\n",
      "Requirement already satisfied: parso<0.9.0,>=0.8.0 in /opt/conda/lib/python3.7/site-packages (from jedi>=0.16->ipython>=1.0->ipython-sql) (0.8.3)\r\n",
      "Requirement already satisfied: ptyprocess>=0.5 in /opt/conda/lib/python3.7/site-packages (from pexpect>4.3->ipython>=1.0->ipython-sql) (0.7.0)\r\n",
      "Requirement already satisfied: typing-extensions>=3.6.4 in /opt/conda/lib/python3.7/site-packages (from importlib-metadata->sqlalchemy>=0.6.7->ipython-sql) (4.2.0)\r\n",
      "Requirement already satisfied: zipp>=0.5 in /opt/conda/lib/python3.7/site-packages (from importlib-metadata->sqlalchemy>=0.6.7->ipython-sql) (3.8.0)\r\n",
      "\u001b[33mWARNING: Running pip as the 'root' user can result in broken permissions and conflicting behaviour with the system package manager. It is recommended to use a virtual environment instead: https://pip.pypa.io/warnings/venv\u001b[0m\u001b[33m\r\n",
      "\u001b[0m\u001b[33mWARNING: There was an error checking the latest version of pip.\u001b[0m\u001b[33m\r\n",
      "\u001b[0m"
     ]
    }
   ],
   "source": [
    "!pip install ipython-sql"
   ]
  },
  {
   "cell_type": "code",
   "execution_count": 2,
   "id": "0fdd0d86",
   "metadata": {
    "execution": {
     "iopub.execute_input": "2022-06-20T19:34:34.389634Z",
     "iopub.status.busy": "2022-06-20T19:34:34.389105Z",
     "iopub.status.idle": "2022-06-20T19:34:34.432490Z",
     "shell.execute_reply": "2022-06-20T19:34:34.431117Z"
    },
    "papermill": {
     "duration": 0.058187,
     "end_time": "2022-06-20T19:34:34.435412",
     "exception": false,
     "start_time": "2022-06-20T19:34:34.377225",
     "status": "completed"
    },
    "tags": []
   },
   "outputs": [],
   "source": [
    "%%capture\n",
    "%load_ext sql\n",
    "%sql sqlite:////kaggle/input/cia-factbook-data/factbook.db"
   ]
  },
  {
   "cell_type": "markdown",
   "id": "77db0b54",
   "metadata": {
    "papermill": {
     "duration": 0.009419,
     "end_time": "2022-06-20T19:34:34.454548",
     "exception": false,
     "start_time": "2022-06-20T19:34:34.445129",
     "status": "completed"
    },
    "tags": []
   },
   "source": [
    "## First table view"
   ]
  },
  {
   "cell_type": "code",
   "execution_count": 3,
   "id": "8d3daa5a",
   "metadata": {
    "collapsed": false,
    "execution": {
     "iopub.execute_input": "2022-06-20T19:34:34.476759Z",
     "iopub.status.busy": "2022-06-20T19:34:34.476270Z",
     "iopub.status.idle": "2022-06-20T19:34:34.491037Z",
     "shell.execute_reply": "2022-06-20T19:34:34.490274Z"
    },
    "jupyter": {
     "outputs_hidden": false
    },
    "papermill": {
     "duration": 0.030109,
     "end_time": "2022-06-20T19:34:34.494900",
     "exception": false,
     "start_time": "2022-06-20T19:34:34.464791",
     "status": "completed"
    },
    "tags": []
   },
   "outputs": [
    {
     "name": "stdout",
     "output_type": "stream",
     "text": [
      " * sqlite:////kaggle/input/cia-factbook-data/factbook.db\n",
      "Done.\n"
     ]
    },
    {
     "data": {
      "text/html": [
       "<table>\n",
       "    <thead>\n",
       "        <tr>\n",
       "            <th>type</th>\n",
       "            <th>name</th>\n",
       "            <th>tbl_name</th>\n",
       "            <th>rootpage</th>\n",
       "            <th>sql</th>\n",
       "        </tr>\n",
       "    </thead>\n",
       "    <tbody>\n",
       "        <tr>\n",
       "            <td>table</td>\n",
       "            <td>sqlite_sequence</td>\n",
       "            <td>sqlite_sequence</td>\n",
       "            <td>3</td>\n",
       "            <td>CREATE TABLE sqlite_sequence(name,seq)</td>\n",
       "        </tr>\n",
       "        <tr>\n",
       "            <td>table</td>\n",
       "            <td>facts</td>\n",
       "            <td>facts</td>\n",
       "            <td>47</td>\n",
       "            <td>CREATE TABLE &quot;facts&quot; (&quot;id&quot; INTEGER PRIMARY KEY AUTOINCREMENT NOT NULL, &quot;code&quot; varchar(255) NOT NULL, &quot;name&quot; varchar(255) NOT NULL, &quot;area&quot; integer, &quot;area_land&quot; integer, &quot;area_water&quot; integer, &quot;population&quot; integer, &quot;population_growth&quot; float, &quot;birth_rate&quot; float, &quot;death_rate&quot; float, &quot;migration_rate&quot; float)</td>\n",
       "        </tr>\n",
       "    </tbody>\n",
       "</table>"
      ],
      "text/plain": [
       "[('table', 'sqlite_sequence', 'sqlite_sequence', 3, 'CREATE TABLE sqlite_sequence(name,seq)'),\n",
       " ('table', 'facts', 'facts', 47, 'CREATE TABLE \"facts\" (\"id\" INTEGER PRIMARY KEY AUTOINCREMENT NOT NULL, \"code\" varchar(255) NOT NULL, \"name\" varchar(255) NOT NULL, \"area\" integer, \"a ... (4 characters truncated) ... land\" integer, \"area_water\" integer, \"population\" integer, \"population_growth\" float, \"birth_rate\" float, \"death_rate\" float, \"migration_rate\" float)')]"
      ]
     },
     "execution_count": 3,
     "metadata": {},
     "output_type": "execute_result"
    }
   ],
   "source": [
    "%%sql\n",
    "SELECT * FROM sqlite_master WHERE type='table';"
   ]
  },
  {
   "cell_type": "code",
   "execution_count": 4,
   "id": "6b82ff14",
   "metadata": {
    "collapsed": false,
    "execution": {
     "iopub.execute_input": "2022-06-20T19:34:34.516488Z",
     "iopub.status.busy": "2022-06-20T19:34:34.515882Z",
     "iopub.status.idle": "2022-06-20T19:34:34.532071Z",
     "shell.execute_reply": "2022-06-20T19:34:34.530791Z"
    },
    "jupyter": {
     "outputs_hidden": false
    },
    "papermill": {
     "duration": 0.029848,
     "end_time": "2022-06-20T19:34:34.534273",
     "exception": false,
     "start_time": "2022-06-20T19:34:34.504425",
     "status": "completed"
    },
    "tags": []
   },
   "outputs": [
    {
     "name": "stdout",
     "output_type": "stream",
     "text": [
      " * sqlite:////kaggle/input/cia-factbook-data/factbook.db\n",
      "Done.\n"
     ]
    },
    {
     "data": {
      "text/html": [
       "<table>\n",
       "    <thead>\n",
       "        <tr>\n",
       "            <th>id</th>\n",
       "            <th>code</th>\n",
       "            <th>name</th>\n",
       "            <th>area</th>\n",
       "            <th>area_land</th>\n",
       "            <th>area_water</th>\n",
       "            <th>population</th>\n",
       "            <th>population_growth</th>\n",
       "            <th>birth_rate</th>\n",
       "            <th>death_rate</th>\n",
       "            <th>migration_rate</th>\n",
       "        </tr>\n",
       "    </thead>\n",
       "    <tbody>\n",
       "        <tr>\n",
       "            <td>1</td>\n",
       "            <td>af</td>\n",
       "            <td>Afghanistan</td>\n",
       "            <td>652230</td>\n",
       "            <td>652230</td>\n",
       "            <td>0</td>\n",
       "            <td>32564342</td>\n",
       "            <td>2.32</td>\n",
       "            <td>38.57</td>\n",
       "            <td>13.89</td>\n",
       "            <td>1.51</td>\n",
       "        </tr>\n",
       "        <tr>\n",
       "            <td>2</td>\n",
       "            <td>al</td>\n",
       "            <td>Albania</td>\n",
       "            <td>28748</td>\n",
       "            <td>27398</td>\n",
       "            <td>1350</td>\n",
       "            <td>3029278</td>\n",
       "            <td>0.3</td>\n",
       "            <td>12.92</td>\n",
       "            <td>6.58</td>\n",
       "            <td>3.3</td>\n",
       "        </tr>\n",
       "        <tr>\n",
       "            <td>3</td>\n",
       "            <td>ag</td>\n",
       "            <td>Algeria</td>\n",
       "            <td>2381741</td>\n",
       "            <td>2381741</td>\n",
       "            <td>0</td>\n",
       "            <td>39542166</td>\n",
       "            <td>1.84</td>\n",
       "            <td>23.67</td>\n",
       "            <td>4.31</td>\n",
       "            <td>0.92</td>\n",
       "        </tr>\n",
       "        <tr>\n",
       "            <td>4</td>\n",
       "            <td>an</td>\n",
       "            <td>Andorra</td>\n",
       "            <td>468</td>\n",
       "            <td>468</td>\n",
       "            <td>0</td>\n",
       "            <td>85580</td>\n",
       "            <td>0.12</td>\n",
       "            <td>8.13</td>\n",
       "            <td>6.96</td>\n",
       "            <td>0.0</td>\n",
       "        </tr>\n",
       "        <tr>\n",
       "            <td>5</td>\n",
       "            <td>ao</td>\n",
       "            <td>Angola</td>\n",
       "            <td>1246700</td>\n",
       "            <td>1246700</td>\n",
       "            <td>0</td>\n",
       "            <td>19625353</td>\n",
       "            <td>2.78</td>\n",
       "            <td>38.78</td>\n",
       "            <td>11.49</td>\n",
       "            <td>0.46</td>\n",
       "        </tr>\n",
       "    </tbody>\n",
       "</table>"
      ],
      "text/plain": [
       "[(1, 'af', 'Afghanistan', 652230, 652230, 0, 32564342, 2.32, 38.57, 13.89, 1.51),\n",
       " (2, 'al', 'Albania', 28748, 27398, 1350, 3029278, 0.3, 12.92, 6.58, 3.3),\n",
       " (3, 'ag', 'Algeria', 2381741, 2381741, 0, 39542166, 1.84, 23.67, 4.31, 0.92),\n",
       " (4, 'an', 'Andorra', 468, 468, 0, 85580, 0.12, 8.13, 6.96, 0.0),\n",
       " (5, 'ao', 'Angola', 1246700, 1246700, 0, 19625353, 2.78, 38.78, 11.49, 0.46)]"
      ]
     },
     "execution_count": 4,
     "metadata": {},
     "output_type": "execute_result"
    }
   ],
   "source": [
    "%%sql\n",
    "SELECT * FROM facts LIMIT 5"
   ]
  },
  {
   "cell_type": "markdown",
   "id": "0e0144dc",
   "metadata": {
    "papermill": {
     "duration": 0.009542,
     "end_time": "2022-06-20T19:34:34.553691",
     "exception": false,
     "start_time": "2022-06-20T19:34:34.544149",
     "status": "completed"
    },
    "tags": []
   },
   "source": [
    "|Column||Description|\n",
    "|------||-----------|\n",
    "|name||The name of the country.|\n",
    "|area||The country's total area (both land and water).|\n",
    "|area_land||The country's land area in square kilometers.|\n",
    "|area_water||The country's waterarea in square kilometers.|\n",
    "|population||The country's population.|\n",
    "|population_growth||The country's population growth as a percentage.|\n",
    "|birth_rate||The country's birth rate, or the number of births a year per 1,000 people.|\n",
    "|death_rate||The country's death rate, or the number of death a year per 1,000 people.|"
   ]
  },
  {
   "cell_type": "markdown",
   "id": "3f33c2d5",
   "metadata": {
    "papermill": {
     "duration": 0.009658,
     "end_time": "2022-06-20T19:34:34.573511",
     "exception": false,
     "start_time": "2022-06-20T19:34:34.563853",
     "status": "completed"
    },
    "tags": []
   },
   "source": [
    "## Data anomalies"
   ]
  },
  {
   "cell_type": "code",
   "execution_count": 5,
   "id": "a16e3dd9",
   "metadata": {
    "execution": {
     "iopub.execute_input": "2022-06-20T19:34:34.594816Z",
     "iopub.status.busy": "2022-06-20T19:34:34.594408Z",
     "iopub.status.idle": "2022-06-20T19:34:34.608404Z",
     "shell.execute_reply": "2022-06-20T19:34:34.607468Z"
    },
    "papermill": {
     "duration": 0.02688,
     "end_time": "2022-06-20T19:34:34.610373",
     "exception": false,
     "start_time": "2022-06-20T19:34:34.583493",
     "status": "completed"
    },
    "tags": []
   },
   "outputs": [
    {
     "name": "stdout",
     "output_type": "stream",
     "text": [
      " * sqlite:////kaggle/input/cia-factbook-data/factbook.db\n",
      "Done.\n"
     ]
    },
    {
     "data": {
      "text/html": [
       "<table>\n",
       "    <thead>\n",
       "        <tr>\n",
       "            <th>Min(population)</th>\n",
       "            <th>Max(population)</th>\n",
       "            <th>Min(population_growth)</th>\n",
       "            <th>Max(population_growth)</th>\n",
       "        </tr>\n",
       "    </thead>\n",
       "    <tbody>\n",
       "        <tr>\n",
       "            <td>0</td>\n",
       "            <td>7256490011</td>\n",
       "            <td>0.0</td>\n",
       "            <td>4.02</td>\n",
       "        </tr>\n",
       "    </tbody>\n",
       "</table>"
      ],
      "text/plain": [
       "[(0, 7256490011, 0.0, 4.02)]"
      ]
     },
     "execution_count": 5,
     "metadata": {},
     "output_type": "execute_result"
    }
   ],
   "source": [
    "%%sql\n",
    "\n",
    "SELECT Min(population), \n",
    "       Max(population), \n",
    "       Min(population_growth), \n",
    "       Max(population_growth) \n",
    "FROM   facts "
   ]
  },
  {
   "cell_type": "markdown",
   "id": "a4ccd5fa",
   "metadata": {
    "papermill": {
     "duration": 0.01004,
     "end_time": "2022-06-20T19:34:34.630397",
     "exception": false,
     "start_time": "2022-06-20T19:34:34.620357",
     "status": "completed"
    },
    "tags": []
   },
   "source": [
    "#### Country with no population at all (min population in the table)"
   ]
  },
  {
   "cell_type": "code",
   "execution_count": 6,
   "id": "833194e3",
   "metadata": {
    "execution": {
     "iopub.execute_input": "2022-06-20T19:34:34.652000Z",
     "iopub.status.busy": "2022-06-20T19:34:34.651379Z",
     "iopub.status.idle": "2022-06-20T19:34:34.662109Z",
     "shell.execute_reply": "2022-06-20T19:34:34.661053Z"
    },
    "papermill": {
     "duration": 0.024018,
     "end_time": "2022-06-20T19:34:34.664282",
     "exception": false,
     "start_time": "2022-06-20T19:34:34.640264",
     "status": "completed"
    },
    "tags": []
   },
   "outputs": [
    {
     "name": "stdout",
     "output_type": "stream",
     "text": [
      " * sqlite:////kaggle/input/cia-factbook-data/factbook.db\n",
      "Done.\n"
     ]
    },
    {
     "data": {
      "text/html": [
       "<table>\n",
       "    <thead>\n",
       "        <tr>\n",
       "            <th>name</th>\n",
       "            <th>population</th>\n",
       "        </tr>\n",
       "    </thead>\n",
       "    <tbody>\n",
       "        <tr>\n",
       "            <td>Antarctica</td>\n",
       "            <td>0</td>\n",
       "        </tr>\n",
       "    </tbody>\n",
       "</table>"
      ],
      "text/plain": [
       "[('Antarctica', 0)]"
      ]
     },
     "execution_count": 6,
     "metadata": {},
     "output_type": "execute_result"
    }
   ],
   "source": [
    "%%sql\n",
    "SELECT name, \n",
    "       population \n",
    "FROM   facts \n",
    "WHERE  population = (SELECT Min(population) FROM   facts) "
   ]
  },
  {
   "cell_type": "code",
   "execution_count": 7,
   "id": "e5f4302d",
   "metadata": {
    "collapsed": false,
    "execution": {
     "iopub.execute_input": "2022-06-20T19:34:34.686416Z",
     "iopub.status.busy": "2022-06-20T19:34:34.685989Z",
     "iopub.status.idle": "2022-06-20T19:34:34.698313Z",
     "shell.execute_reply": "2022-06-20T19:34:34.697321Z"
    },
    "jupyter": {
     "outputs_hidden": false
    },
    "papermill": {
     "duration": 0.025825,
     "end_time": "2022-06-20T19:34:34.700495",
     "exception": false,
     "start_time": "2022-06-20T19:34:34.674670",
     "status": "completed"
    },
    "tags": []
   },
   "outputs": [
    {
     "name": "stdout",
     "output_type": "stream",
     "text": [
      " * sqlite:////kaggle/input/cia-factbook-data/factbook.db\n",
      "Done.\n"
     ]
    },
    {
     "data": {
      "text/html": [
       "<table>\n",
       "    <thead>\n",
       "        <tr>\n",
       "            <th>MIN(population)</th>\n",
       "            <th>MAX(population)</th>\n",
       "            <th>MIN(population_growth)</th>\n",
       "            <th>MAX(population_growth)</th>\n",
       "        </tr>\n",
       "    </thead>\n",
       "    <tbody>\n",
       "        <tr>\n",
       "            <td>0</td>\n",
       "            <td>7256490011</td>\n",
       "            <td>0.0</td>\n",
       "            <td>4.02</td>\n",
       "        </tr>\n",
       "    </tbody>\n",
       "</table>"
      ],
      "text/plain": [
       "[(0, 7256490011, 0.0, 4.02)]"
      ]
     },
     "execution_count": 7,
     "metadata": {},
     "output_type": "execute_result"
    }
   ],
   "source": [
    "%%sql\n",
    "select MIN(population), MAX(population), MIN(population_growth), MAX(population_growth) \n",
    "FROM facts"
   ]
  },
  {
   "cell_type": "code",
   "execution_count": 8,
   "id": "44df2e3d",
   "metadata": {
    "collapsed": false,
    "execution": {
     "iopub.execute_input": "2022-06-20T19:34:34.723769Z",
     "iopub.status.busy": "2022-06-20T19:34:34.723088Z",
     "iopub.status.idle": "2022-06-20T19:34:34.735492Z",
     "shell.execute_reply": "2022-06-20T19:34:34.734317Z"
    },
    "jupyter": {
     "outputs_hidden": false
    },
    "papermill": {
     "duration": 0.026784,
     "end_time": "2022-06-20T19:34:34.737862",
     "exception": false,
     "start_time": "2022-06-20T19:34:34.711078",
     "status": "completed"
    },
    "tags": []
   },
   "outputs": [
    {
     "name": "stdout",
     "output_type": "stream",
     "text": [
      " * sqlite:////kaggle/input/cia-factbook-data/factbook.db\n",
      "Done.\n"
     ]
    },
    {
     "data": {
      "text/html": [
       "<table>\n",
       "    <thead>\n",
       "        <tr>\n",
       "            <th>id</th>\n",
       "            <th>code</th>\n",
       "            <th>name</th>\n",
       "            <th>area</th>\n",
       "            <th>area_land</th>\n",
       "            <th>area_water</th>\n",
       "            <th>population</th>\n",
       "            <th>population_growth</th>\n",
       "            <th>birth_rate</th>\n",
       "            <th>death_rate</th>\n",
       "            <th>migration_rate</th>\n",
       "        </tr>\n",
       "    </thead>\n",
       "    <tbody>\n",
       "        <tr>\n",
       "            <td>250</td>\n",
       "            <td>ay</td>\n",
       "            <td>Antarctica</td>\n",
       "            <td>None</td>\n",
       "            <td>280000</td>\n",
       "            <td>None</td>\n",
       "            <td>0</td>\n",
       "            <td>None</td>\n",
       "            <td>None</td>\n",
       "            <td>None</td>\n",
       "            <td>None</td>\n",
       "        </tr>\n",
       "    </tbody>\n",
       "</table>"
      ],
      "text/plain": [
       "[(250, 'ay', 'Antarctica', None, 280000, None, 0, None, None, None, None)]"
      ]
     },
     "execution_count": 8,
     "metadata": {},
     "output_type": "execute_result"
    }
   ],
   "source": [
    "%%sql\n",
    "SELECT * from facts\n",
    "WHERE population == (SELECT MIN(population) FROM facts)"
   ]
  },
  {
   "cell_type": "code",
   "execution_count": 9,
   "id": "aebf96b4",
   "metadata": {
    "collapsed": false,
    "execution": {
     "iopub.execute_input": "2022-06-20T19:34:34.761106Z",
     "iopub.status.busy": "2022-06-20T19:34:34.760693Z",
     "iopub.status.idle": "2022-06-20T19:34:34.772520Z",
     "shell.execute_reply": "2022-06-20T19:34:34.771480Z"
    },
    "jupyter": {
     "outputs_hidden": false
    },
    "papermill": {
     "duration": 0.026023,
     "end_time": "2022-06-20T19:34:34.774690",
     "exception": false,
     "start_time": "2022-06-20T19:34:34.748667",
     "status": "completed"
    },
    "tags": []
   },
   "outputs": [
    {
     "name": "stdout",
     "output_type": "stream",
     "text": [
      " * sqlite:////kaggle/input/cia-factbook-data/factbook.db\n",
      "Done.\n"
     ]
    },
    {
     "data": {
      "text/html": [
       "<table>\n",
       "    <thead>\n",
       "        <tr>\n",
       "            <th>id</th>\n",
       "            <th>code</th>\n",
       "            <th>name</th>\n",
       "            <th>area</th>\n",
       "            <th>area_land</th>\n",
       "            <th>area_water</th>\n",
       "            <th>population</th>\n",
       "            <th>population_growth</th>\n",
       "            <th>birth_rate</th>\n",
       "            <th>death_rate</th>\n",
       "            <th>migration_rate</th>\n",
       "        </tr>\n",
       "    </thead>\n",
       "    <tbody>\n",
       "        <tr>\n",
       "            <td>261</td>\n",
       "            <td>xx</td>\n",
       "            <td>World</td>\n",
       "            <td>None</td>\n",
       "            <td>None</td>\n",
       "            <td>None</td>\n",
       "            <td>7256490011</td>\n",
       "            <td>1.08</td>\n",
       "            <td>18.6</td>\n",
       "            <td>7.8</td>\n",
       "            <td>None</td>\n",
       "        </tr>\n",
       "    </tbody>\n",
       "</table>"
      ],
      "text/plain": [
       "[(261, 'xx', 'World', None, None, None, 7256490011, 1.08, 18.6, 7.8, None)]"
      ]
     },
     "execution_count": 9,
     "metadata": {},
     "output_type": "execute_result"
    }
   ],
   "source": [
    "%%sql\n",
    "SELECT * from facts\n",
    "WHERE population == (SELECT MAX(population) FROM facts)"
   ]
  },
  {
   "cell_type": "markdown",
   "id": "d855827a",
   "metadata": {
    "papermill": {
     "duration": 0.01073,
     "end_time": "2022-06-20T19:34:34.796379",
     "exception": false,
     "start_time": "2022-06-20T19:34:34.785649",
     "status": "completed"
    },
    "tags": []
   },
   "source": [
    "## Data Analisys \n",
    "* Average of population and area"
   ]
  },
  {
   "cell_type": "code",
   "execution_count": 10,
   "id": "ab4ab6b4",
   "metadata": {
    "collapsed": false,
    "execution": {
     "iopub.execute_input": "2022-06-20T19:34:34.820700Z",
     "iopub.status.busy": "2022-06-20T19:34:34.820161Z",
     "iopub.status.idle": "2022-06-20T19:34:34.832082Z",
     "shell.execute_reply": "2022-06-20T19:34:34.830855Z"
    },
    "jupyter": {
     "outputs_hidden": false
    },
    "papermill": {
     "duration": 0.027879,
     "end_time": "2022-06-20T19:34:34.835580",
     "exception": false,
     "start_time": "2022-06-20T19:34:34.807701",
     "status": "completed"
    },
    "tags": []
   },
   "outputs": [
    {
     "name": "stdout",
     "output_type": "stream",
     "text": [
      " * sqlite:////kaggle/input/cia-factbook-data/factbook.db\n",
      "Done.\n"
     ]
    },
    {
     "data": {
      "text/html": [
       "<table>\n",
       "    <thead>\n",
       "        <tr>\n",
       "            <th>AVG(population)</th>\n",
       "            <th> </th>\n",
       "        </tr>\n",
       "    </thead>\n",
       "    <tbody>\n",
       "        <tr>\n",
       "            <td>62094928.32231405</td>\n",
       "            <td>555093.546184739</td>\n",
       "        </tr>\n",
       "    </tbody>\n",
       "</table>"
      ],
      "text/plain": [
       "[(62094928.32231405, 555093.546184739)]"
      ]
     },
     "execution_count": 10,
     "metadata": {},
     "output_type": "execute_result"
    }
   ],
   "source": [
    "%%sql\n",
    "SELECT AVG(population),\n",
    "       AVG(area)  \n",
    "FROM facts"
   ]
  },
  {
   "cell_type": "markdown",
   "id": "96b6eae2",
   "metadata": {
    "papermill": {
     "duration": 0.011187,
     "end_time": "2022-06-20T19:34:34.858726",
     "exception": false,
     "start_time": "2022-06-20T19:34:34.847539",
     "status": "completed"
    },
    "tags": []
   },
   "source": [
    "* Which countries population and are are bigger than average?"
   ]
  },
  {
   "cell_type": "code",
   "execution_count": 11,
   "id": "6a6653f7",
   "metadata": {
    "collapsed": false,
    "execution": {
     "iopub.execute_input": "2022-06-20T19:34:34.883089Z",
     "iopub.status.busy": "2022-06-20T19:34:34.882649Z",
     "iopub.status.idle": "2022-06-20T19:34:34.900120Z",
     "shell.execute_reply": "2022-06-20T19:34:34.898360Z"
    },
    "jupyter": {
     "outputs_hidden": false
    },
    "papermill": {
     "duration": 0.032241,
     "end_time": "2022-06-20T19:34:34.902306",
     "exception": false,
     "start_time": "2022-06-20T19:34:34.870065",
     "status": "completed"
    },
    "tags": []
   },
   "outputs": [
    {
     "name": "stdout",
     "output_type": "stream",
     "text": [
      " * sqlite:////kaggle/input/cia-factbook-data/factbook.db\n",
      "Done.\n"
     ]
    },
    {
     "data": {
      "text/html": [
       "<table>\n",
       "    <thead>\n",
       "        <tr>\n",
       "            <th>id</th>\n",
       "            <th>code</th>\n",
       "            <th>name</th>\n",
       "            <th>area</th>\n",
       "            <th>area_land</th>\n",
       "            <th>area_water</th>\n",
       "            <th>population</th>\n",
       "            <th>population_growth</th>\n",
       "            <th>birth_rate</th>\n",
       "            <th>death_rate</th>\n",
       "            <th>migration_rate</th>\n",
       "        </tr>\n",
       "    </thead>\n",
       "    <tbody>\n",
       "        <tr>\n",
       "            <td>24</td>\n",
       "            <td>br</td>\n",
       "            <td>Brazil</td>\n",
       "            <td>8515770</td>\n",
       "            <td>8358140</td>\n",
       "            <td>157630</td>\n",
       "            <td>204259812</td>\n",
       "            <td>0.77</td>\n",
       "            <td>14.46</td>\n",
       "            <td>6.58</td>\n",
       "            <td>0.14</td>\n",
       "        </tr>\n",
       "        <tr>\n",
       "            <td>37</td>\n",
       "            <td>ch</td>\n",
       "            <td>China</td>\n",
       "            <td>9596960</td>\n",
       "            <td>9326410</td>\n",
       "            <td>270550</td>\n",
       "            <td>1367485388</td>\n",
       "            <td>0.45</td>\n",
       "            <td>12.49</td>\n",
       "            <td>7.53</td>\n",
       "            <td>0.44</td>\n",
       "        </tr>\n",
       "        <tr>\n",
       "            <td>40</td>\n",
       "            <td>cg</td>\n",
       "            <td>Congo, Democratic Republic of the</td>\n",
       "            <td>2344858</td>\n",
       "            <td>2267048</td>\n",
       "            <td>77810</td>\n",
       "            <td>79375136</td>\n",
       "            <td>2.45</td>\n",
       "            <td>34.88</td>\n",
       "            <td>10.07</td>\n",
       "            <td>0.27</td>\n",
       "        </tr>\n",
       "        <tr>\n",
       "            <td>53</td>\n",
       "            <td>eg</td>\n",
       "            <td>Egypt</td>\n",
       "            <td>1001450</td>\n",
       "            <td>995450</td>\n",
       "            <td>6000</td>\n",
       "            <td>88487396</td>\n",
       "            <td>1.79</td>\n",
       "            <td>22.9</td>\n",
       "            <td>4.77</td>\n",
       "            <td>0.19</td>\n",
       "        </tr>\n",
       "        <tr>\n",
       "            <td>58</td>\n",
       "            <td>et</td>\n",
       "            <td>Ethiopia</td>\n",
       "            <td>1104300</td>\n",
       "            <td>None</td>\n",
       "            <td>104300</td>\n",
       "            <td>99465819</td>\n",
       "            <td>2.89</td>\n",
       "            <td>37.27</td>\n",
       "            <td>8.19</td>\n",
       "            <td>0.22</td>\n",
       "        </tr>\n",
       "        <tr>\n",
       "            <td>61</td>\n",
       "            <td>fr</td>\n",
       "            <td>France</td>\n",
       "            <td>643801</td>\n",
       "            <td>640427</td>\n",
       "            <td>3374</td>\n",
       "            <td>66553766</td>\n",
       "            <td>0.43</td>\n",
       "            <td>12.38</td>\n",
       "            <td>9.16</td>\n",
       "            <td>1.09</td>\n",
       "        </tr>\n",
       "        <tr>\n",
       "            <td>77</td>\n",
       "            <td>in</td>\n",
       "            <td>India</td>\n",
       "            <td>3287263</td>\n",
       "            <td>2973193</td>\n",
       "            <td>314070</td>\n",
       "            <td>1251695584</td>\n",
       "            <td>1.22</td>\n",
       "            <td>19.55</td>\n",
       "            <td>7.32</td>\n",
       "            <td>0.04</td>\n",
       "        </tr>\n",
       "        <tr>\n",
       "            <td>78</td>\n",
       "            <td>id</td>\n",
       "            <td>Indonesia</td>\n",
       "            <td>1904569</td>\n",
       "            <td>1811569</td>\n",
       "            <td>93000</td>\n",
       "            <td>255993674</td>\n",
       "            <td>0.92</td>\n",
       "            <td>16.72</td>\n",
       "            <td>6.37</td>\n",
       "            <td>1.16</td>\n",
       "        </tr>\n",
       "        <tr>\n",
       "            <td>79</td>\n",
       "            <td>ir</td>\n",
       "            <td>Iran</td>\n",
       "            <td>1648195</td>\n",
       "            <td>1531595</td>\n",
       "            <td>116600</td>\n",
       "            <td>81824270</td>\n",
       "            <td>1.2</td>\n",
       "            <td>17.99</td>\n",
       "            <td>5.94</td>\n",
       "            <td>0.07</td>\n",
       "        </tr>\n",
       "        <tr>\n",
       "            <td>114</td>\n",
       "            <td>mx</td>\n",
       "            <td>Mexico</td>\n",
       "            <td>1964375</td>\n",
       "            <td>1943945</td>\n",
       "            <td>20430</td>\n",
       "            <td>121736809</td>\n",
       "            <td>1.18</td>\n",
       "            <td>18.78</td>\n",
       "            <td>5.26</td>\n",
       "            <td>1.68</td>\n",
       "        </tr>\n",
       "        <tr>\n",
       "            <td>129</td>\n",
       "            <td>ni</td>\n",
       "            <td>Nigeria</td>\n",
       "            <td>923768</td>\n",
       "            <td>910768</td>\n",
       "            <td>13000</td>\n",
       "            <td>181562056</td>\n",
       "            <td>2.45</td>\n",
       "            <td>37.64</td>\n",
       "            <td>12.9</td>\n",
       "            <td>0.22</td>\n",
       "        </tr>\n",
       "        <tr>\n",
       "            <td>132</td>\n",
       "            <td>pk</td>\n",
       "            <td>Pakistan</td>\n",
       "            <td>796095</td>\n",
       "            <td>770875</td>\n",
       "            <td>25220</td>\n",
       "            <td>199085847</td>\n",
       "            <td>1.46</td>\n",
       "            <td>22.58</td>\n",
       "            <td>6.49</td>\n",
       "            <td>1.54</td>\n",
       "        </tr>\n",
       "        <tr>\n",
       "            <td>143</td>\n",
       "            <td>rs</td>\n",
       "            <td>Russia</td>\n",
       "            <td>17098242</td>\n",
       "            <td>16377742</td>\n",
       "            <td>720500</td>\n",
       "            <td>142423773</td>\n",
       "            <td>0.04</td>\n",
       "            <td>11.6</td>\n",
       "            <td>13.69</td>\n",
       "            <td>1.69</td>\n",
       "        </tr>\n",
       "        <tr>\n",
       "            <td>179</td>\n",
       "            <td>tu</td>\n",
       "            <td>Turkey</td>\n",
       "            <td>783562</td>\n",
       "            <td>769632</td>\n",
       "            <td>13930</td>\n",
       "            <td>79414269</td>\n",
       "            <td>1.26</td>\n",
       "            <td>16.33</td>\n",
       "            <td>5.88</td>\n",
       "            <td>2.16</td>\n",
       "        </tr>\n",
       "        <tr>\n",
       "            <td>186</td>\n",
       "            <td>us</td>\n",
       "            <td>United States</td>\n",
       "            <td>9826675</td>\n",
       "            <td>9161966</td>\n",
       "            <td>664709</td>\n",
       "            <td>321368864</td>\n",
       "            <td>0.78</td>\n",
       "            <td>12.49</td>\n",
       "            <td>8.15</td>\n",
       "            <td>3.86</td>\n",
       "        </tr>\n",
       "        <tr>\n",
       "            <td>197</td>\n",
       "            <td>ee</td>\n",
       "            <td>European Union</td>\n",
       "            <td>4324782</td>\n",
       "            <td>None</td>\n",
       "            <td>None</td>\n",
       "            <td>513949445</td>\n",
       "            <td>0.25</td>\n",
       "            <td>10.2</td>\n",
       "            <td>10.2</td>\n",
       "            <td>2.5</td>\n",
       "        </tr>\n",
       "    </tbody>\n",
       "</table>"
      ],
      "text/plain": [
       "[(24, 'br', 'Brazil', 8515770, 8358140, 157630, 204259812, 0.77, 14.46, 6.58, 0.14),\n",
       " (37, 'ch', 'China', 9596960, 9326410, 270550, 1367485388, 0.45, 12.49, 7.53, 0.44),\n",
       " (40, 'cg', 'Congo, Democratic Republic of the', 2344858, 2267048, 77810, 79375136, 2.45, 34.88, 10.07, 0.27),\n",
       " (53, 'eg', 'Egypt', 1001450, 995450, 6000, 88487396, 1.79, 22.9, 4.77, 0.19),\n",
       " (58, 'et', 'Ethiopia', 1104300, None, 104300, 99465819, 2.89, 37.27, 8.19, 0.22),\n",
       " (61, 'fr', 'France', 643801, 640427, 3374, 66553766, 0.43, 12.38, 9.16, 1.09),\n",
       " (77, 'in', 'India', 3287263, 2973193, 314070, 1251695584, 1.22, 19.55, 7.32, 0.04),\n",
       " (78, 'id', 'Indonesia', 1904569, 1811569, 93000, 255993674, 0.92, 16.72, 6.37, 1.16),\n",
       " (79, 'ir', 'Iran', 1648195, 1531595, 116600, 81824270, 1.2, 17.99, 5.94, 0.07),\n",
       " (114, 'mx', 'Mexico', 1964375, 1943945, 20430, 121736809, 1.18, 18.78, 5.26, 1.68),\n",
       " (129, 'ni', 'Nigeria', 923768, 910768, 13000, 181562056, 2.45, 37.64, 12.9, 0.22),\n",
       " (132, 'pk', 'Pakistan', 796095, 770875, 25220, 199085847, 1.46, 22.58, 6.49, 1.54),\n",
       " (143, 'rs', 'Russia', 17098242, 16377742, 720500, 142423773, 0.04, 11.6, 13.69, 1.69),\n",
       " (179, 'tu', 'Turkey', 783562, 769632, 13930, 79414269, 1.26, 16.33, 5.88, 2.16),\n",
       " (186, 'us', 'United States', 9826675, 9161966, 664709, 321368864, 0.78, 12.49, 8.15, 3.86),\n",
       " (197, 'ee', 'European Union', 4324782, None, None, 513949445, 0.25, 10.2, 10.2, 2.5)]"
      ]
     },
     "execution_count": 11,
     "metadata": {},
     "output_type": "execute_result"
    }
   ],
   "source": [
    "%%sql \n",
    "SELECT * FROM facts\n",
    "WHERE population > (SELECT AVG(population) FROM facts) \n",
    "AND area > (SELECT AVG(area) FROM facts)\n"
   ]
  },
  {
   "cell_type": "markdown",
   "id": "0e17f56b",
   "metadata": {
    "papermill": {
     "duration": 0.011611,
     "end_time": "2022-06-20T19:34:34.926442",
     "exception": false,
     "start_time": "2022-06-20T19:34:34.914831",
     "status": "completed"
    },
    "tags": []
   },
   "source": [
    "* Which countries have the highest ratios of water to land? "
   ]
  },
  {
   "cell_type": "code",
   "execution_count": 12,
   "id": "4cafc5fd",
   "metadata": {
    "collapsed": false,
    "execution": {
     "iopub.execute_input": "2022-06-20T19:34:34.952094Z",
     "iopub.status.busy": "2022-06-20T19:34:34.951680Z",
     "iopub.status.idle": "2022-06-20T19:34:34.967327Z",
     "shell.execute_reply": "2022-06-20T19:34:34.966075Z"
    },
    "jupyter": {
     "outputs_hidden": false
    },
    "papermill": {
     "duration": 0.031076,
     "end_time": "2022-06-20T19:34:34.969561",
     "exception": false,
     "start_time": "2022-06-20T19:34:34.938485",
     "status": "completed"
    },
    "tags": []
   },
   "outputs": [
    {
     "name": "stdout",
     "output_type": "stream",
     "text": [
      " * sqlite:////kaggle/input/cia-factbook-data/factbook.db\n",
      "Done.\n"
     ]
    },
    {
     "data": {
      "text/html": [
       "<table>\n",
       "    <thead>\n",
       "        <tr>\n",
       "            <th>id</th>\n",
       "            <th>code</th>\n",
       "            <th>name</th>\n",
       "            <th>area</th>\n",
       "            <th>area_land</th>\n",
       "            <th>area_water</th>\n",
       "            <th>population</th>\n",
       "            <th>population_growth</th>\n",
       "            <th>birth_rate</th>\n",
       "            <th>death_rate</th>\n",
       "            <th>migration_rate</th>\n",
       "        </tr>\n",
       "    </thead>\n",
       "    <tbody>\n",
       "        <tr>\n",
       "            <td>32</td>\n",
       "            <td>ca</td>\n",
       "            <td>Canada</td>\n",
       "            <td>9984670</td>\n",
       "            <td>9093507</td>\n",
       "            <td>891163</td>\n",
       "            <td>35099836</td>\n",
       "            <td>0.75</td>\n",
       "            <td>10.28</td>\n",
       "            <td>8.42</td>\n",
       "            <td>5.66</td>\n",
       "        </tr>\n",
       "        <tr>\n",
       "            <td>143</td>\n",
       "            <td>rs</td>\n",
       "            <td>Russia</td>\n",
       "            <td>17098242</td>\n",
       "            <td>16377742</td>\n",
       "            <td>720500</td>\n",
       "            <td>142423773</td>\n",
       "            <td>0.04</td>\n",
       "            <td>11.6</td>\n",
       "            <td>13.69</td>\n",
       "            <td>1.69</td>\n",
       "        </tr>\n",
       "        <tr>\n",
       "            <td>186</td>\n",
       "            <td>us</td>\n",
       "            <td>United States</td>\n",
       "            <td>9826675</td>\n",
       "            <td>9161966</td>\n",
       "            <td>664709</td>\n",
       "            <td>321368864</td>\n",
       "            <td>0.78</td>\n",
       "            <td>12.49</td>\n",
       "            <td>8.15</td>\n",
       "            <td>3.86</td>\n",
       "        </tr>\n",
       "        <tr>\n",
       "            <td>77</td>\n",
       "            <td>in</td>\n",
       "            <td>India</td>\n",
       "            <td>3287263</td>\n",
       "            <td>2973193</td>\n",
       "            <td>314070</td>\n",
       "            <td>1251695584</td>\n",
       "            <td>1.22</td>\n",
       "            <td>19.55</td>\n",
       "            <td>7.32</td>\n",
       "            <td>0.04</td>\n",
       "        </tr>\n",
       "        <tr>\n",
       "            <td>37</td>\n",
       "            <td>ch</td>\n",
       "            <td>China</td>\n",
       "            <td>9596960</td>\n",
       "            <td>9326410</td>\n",
       "            <td>270550</td>\n",
       "            <td>1367485388</td>\n",
       "            <td>0.45</td>\n",
       "            <td>12.49</td>\n",
       "            <td>7.53</td>\n",
       "            <td>0.44</td>\n",
       "        </tr>\n",
       "        <tr>\n",
       "            <td>24</td>\n",
       "            <td>br</td>\n",
       "            <td>Brazil</td>\n",
       "            <td>8515770</td>\n",
       "            <td>8358140</td>\n",
       "            <td>157630</td>\n",
       "            <td>204259812</td>\n",
       "            <td>0.77</td>\n",
       "            <td>14.46</td>\n",
       "            <td>6.58</td>\n",
       "            <td>0.14</td>\n",
       "        </tr>\n",
       "        <tr>\n",
       "            <td>79</td>\n",
       "            <td>ir</td>\n",
       "            <td>Iran</td>\n",
       "            <td>1648195</td>\n",
       "            <td>1531595</td>\n",
       "            <td>116600</td>\n",
       "            <td>81824270</td>\n",
       "            <td>1.2</td>\n",
       "            <td>17.99</td>\n",
       "            <td>5.94</td>\n",
       "            <td>0.07</td>\n",
       "        </tr>\n",
       "        <tr>\n",
       "            <td>58</td>\n",
       "            <td>et</td>\n",
       "            <td>Ethiopia</td>\n",
       "            <td>1104300</td>\n",
       "            <td>None</td>\n",
       "            <td>104300</td>\n",
       "            <td>99465819</td>\n",
       "            <td>2.89</td>\n",
       "            <td>37.27</td>\n",
       "            <td>8.19</td>\n",
       "            <td>0.22</td>\n",
       "        </tr>\n",
       "        <tr>\n",
       "            <td>38</td>\n",
       "            <td>co</td>\n",
       "            <td>Colombia</td>\n",
       "            <td>1138910</td>\n",
       "            <td>1038700</td>\n",
       "            <td>100210</td>\n",
       "            <td>46736728</td>\n",
       "            <td>1.04</td>\n",
       "            <td>16.47</td>\n",
       "            <td>5.4</td>\n",
       "            <td>0.64</td>\n",
       "        </tr>\n",
       "        <tr>\n",
       "            <td>78</td>\n",
       "            <td>id</td>\n",
       "            <td>Indonesia</td>\n",
       "            <td>1904569</td>\n",
       "            <td>1811569</td>\n",
       "            <td>93000</td>\n",
       "            <td>255993674</td>\n",
       "            <td>0.92</td>\n",
       "            <td>16.72</td>\n",
       "            <td>6.37</td>\n",
       "            <td>1.16</td>\n",
       "        </tr>\n",
       "        <tr>\n",
       "            <td>40</td>\n",
       "            <td>cg</td>\n",
       "            <td>Congo, Democratic Republic of the</td>\n",
       "            <td>2344858</td>\n",
       "            <td>2267048</td>\n",
       "            <td>77810</td>\n",
       "            <td>79375136</td>\n",
       "            <td>2.45</td>\n",
       "            <td>34.88</td>\n",
       "            <td>10.07</td>\n",
       "            <td>0.27</td>\n",
       "        </tr>\n",
       "        <tr>\n",
       "            <td>172</td>\n",
       "            <td>tz</td>\n",
       "            <td>Tanzania</td>\n",
       "            <td>947300</td>\n",
       "            <td>885800</td>\n",
       "            <td>61500</td>\n",
       "            <td>51045882</td>\n",
       "            <td>2.79</td>\n",
       "            <td>36.39</td>\n",
       "            <td>8.0</td>\n",
       "            <td>0.54</td>\n",
       "        </tr>\n",
       "        <tr>\n",
       "            <td>9</td>\n",
       "            <td>as</td>\n",
       "            <td>Australia</td>\n",
       "            <td>7741220</td>\n",
       "            <td>7682300</td>\n",
       "            <td>58920</td>\n",
       "            <td>22751014</td>\n",
       "            <td>1.07</td>\n",
       "            <td>12.15</td>\n",
       "            <td>7.14</td>\n",
       "            <td>5.65</td>\n",
       "        </tr>\n",
       "        <tr>\n",
       "            <td>228</td>\n",
       "            <td>io</td>\n",
       "            <td>British Indian Ocean Territory</td>\n",
       "            <td>54400</td>\n",
       "            <td>60</td>\n",
       "            <td>54340</td>\n",
       "            <td>None</td>\n",
       "            <td>None</td>\n",
       "            <td>None</td>\n",
       "            <td>None</td>\n",
       "            <td>None</td>\n",
       "        </tr>\n",
       "        <tr>\n",
       "            <td>182</td>\n",
       "            <td>ug</td>\n",
       "            <td>Uganda</td>\n",
       "            <td>241038</td>\n",
       "            <td>197100</td>\n",
       "            <td>43938</td>\n",
       "            <td>37101745</td>\n",
       "            <td>3.24</td>\n",
       "            <td>43.79</td>\n",
       "            <td>10.69</td>\n",
       "            <td>0.74</td>\n",
       "        </tr>\n",
       "        <tr>\n",
       "            <td>7</td>\n",
       "            <td>ar</td>\n",
       "            <td>Argentina</td>\n",
       "            <td>2780400</td>\n",
       "            <td>2736690</td>\n",
       "            <td>43710</td>\n",
       "            <td>43431886</td>\n",
       "            <td>0.93</td>\n",
       "            <td>16.64</td>\n",
       "            <td>7.33</td>\n",
       "            <td>0.0</td>\n",
       "        </tr>\n",
       "        <tr>\n",
       "            <td>168</td>\n",
       "            <td>sw</td>\n",
       "            <td>Sweden</td>\n",
       "            <td>450295</td>\n",
       "            <td>410335</td>\n",
       "            <td>39960</td>\n",
       "            <td>9801616</td>\n",
       "            <td>0.8</td>\n",
       "            <td>11.99</td>\n",
       "            <td>9.4</td>\n",
       "            <td>5.42</td>\n",
       "        </tr>\n",
       "        <tr>\n",
       "            <td>60</td>\n",
       "            <td>fi</td>\n",
       "            <td>Finland</td>\n",
       "            <td>338145</td>\n",
       "            <td>303815</td>\n",
       "            <td>34330</td>\n",
       "            <td>5476922</td>\n",
       "            <td>0.4</td>\n",
       "            <td>10.72</td>\n",
       "            <td>9.83</td>\n",
       "            <td>3.1</td>\n",
       "        </tr>\n",
       "        <tr>\n",
       "            <td>191</td>\n",
       "            <td>ve</td>\n",
       "            <td>Venezuela</td>\n",
       "            <td>912050</td>\n",
       "            <td>882050</td>\n",
       "            <td>30000</td>\n",
       "            <td>29275460</td>\n",
       "            <td>1.39</td>\n",
       "            <td>19.16</td>\n",
       "            <td>5.31</td>\n",
       "            <td>0.0</td>\n",
       "        </tr>\n",
       "        <tr>\n",
       "            <td>132</td>\n",
       "            <td>pk</td>\n",
       "            <td>Pakistan</td>\n",
       "            <td>796095</td>\n",
       "            <td>770875</td>\n",
       "            <td>25220</td>\n",
       "            <td>199085847</td>\n",
       "            <td>1.46</td>\n",
       "            <td>22.58</td>\n",
       "            <td>6.49</td>\n",
       "            <td>1.54</td>\n",
       "        </tr>\n",
       "    </tbody>\n",
       "</table>"
      ],
      "text/plain": [
       "[(32, 'ca', 'Canada', 9984670, 9093507, 891163, 35099836, 0.75, 10.28, 8.42, 5.66),\n",
       " (143, 'rs', 'Russia', 17098242, 16377742, 720500, 142423773, 0.04, 11.6, 13.69, 1.69),\n",
       " (186, 'us', 'United States', 9826675, 9161966, 664709, 321368864, 0.78, 12.49, 8.15, 3.86),\n",
       " (77, 'in', 'India', 3287263, 2973193, 314070, 1251695584, 1.22, 19.55, 7.32, 0.04),\n",
       " (37, 'ch', 'China', 9596960, 9326410, 270550, 1367485388, 0.45, 12.49, 7.53, 0.44),\n",
       " (24, 'br', 'Brazil', 8515770, 8358140, 157630, 204259812, 0.77, 14.46, 6.58, 0.14),\n",
       " (79, 'ir', 'Iran', 1648195, 1531595, 116600, 81824270, 1.2, 17.99, 5.94, 0.07),\n",
       " (58, 'et', 'Ethiopia', 1104300, None, 104300, 99465819, 2.89, 37.27, 8.19, 0.22),\n",
       " (38, 'co', 'Colombia', 1138910, 1038700, 100210, 46736728, 1.04, 16.47, 5.4, 0.64),\n",
       " (78, 'id', 'Indonesia', 1904569, 1811569, 93000, 255993674, 0.92, 16.72, 6.37, 1.16),\n",
       " (40, 'cg', 'Congo, Democratic Republic of the', 2344858, 2267048, 77810, 79375136, 2.45, 34.88, 10.07, 0.27),\n",
       " (172, 'tz', 'Tanzania', 947300, 885800, 61500, 51045882, 2.79, 36.39, 8.0, 0.54),\n",
       " (9, 'as', 'Australia', 7741220, 7682300, 58920, 22751014, 1.07, 12.15, 7.14, 5.65),\n",
       " (228, 'io', 'British Indian Ocean Territory', 54400, 60, 54340, None, None, None, None, None),\n",
       " (182, 'ug', 'Uganda', 241038, 197100, 43938, 37101745, 3.24, 43.79, 10.69, 0.74),\n",
       " (7, 'ar', 'Argentina', 2780400, 2736690, 43710, 43431886, 0.93, 16.64, 7.33, 0.0),\n",
       " (168, 'sw', 'Sweden', 450295, 410335, 39960, 9801616, 0.8, 11.99, 9.4, 5.42),\n",
       " (60, 'fi', 'Finland', 338145, 303815, 34330, 5476922, 0.4, 10.72, 9.83, 3.1),\n",
       " (191, 've', 'Venezuela', 912050, 882050, 30000, 29275460, 1.39, 19.16, 5.31, 0.0),\n",
       " (132, 'pk', 'Pakistan', 796095, 770875, 25220, 199085847, 1.46, 22.58, 6.49, 1.54)]"
      ]
     },
     "execution_count": 12,
     "metadata": {},
     "output_type": "execute_result"
    }
   ],
   "source": [
    "%%sql\n",
    "SELECT * FROM facts\n",
    "WHERE area_water > (SELECT AVG(area_water) FROM facts)\n",
    "ORDER BY area_water DESC\n",
    "LIMIT 20"
   ]
  },
  {
   "cell_type": "markdown",
   "id": "76480f57",
   "metadata": {
    "papermill": {
     "duration": 0.012387,
     "end_time": "2022-06-20T19:34:34.995324",
     "exception": false,
     "start_time": "2022-06-20T19:34:34.982937",
     "status": "completed"
    },
    "tags": []
   },
   "source": [
    "* Which countries have more water than land?"
   ]
  },
  {
   "cell_type": "code",
   "execution_count": 13,
   "id": "95d7e4d0",
   "metadata": {
    "collapsed": false,
    "execution": {
     "iopub.execute_input": "2022-06-20T19:34:35.023245Z",
     "iopub.status.busy": "2022-06-20T19:34:35.022811Z",
     "iopub.status.idle": "2022-06-20T19:34:35.035137Z",
     "shell.execute_reply": "2022-06-20T19:34:35.034015Z"
    },
    "jupyter": {
     "outputs_hidden": false
    },
    "papermill": {
     "duration": 0.029596,
     "end_time": "2022-06-20T19:34:35.037400",
     "exception": false,
     "start_time": "2022-06-20T19:34:35.007804",
     "status": "completed"
    },
    "tags": []
   },
   "outputs": [
    {
     "name": "stdout",
     "output_type": "stream",
     "text": [
      " * sqlite:////kaggle/input/cia-factbook-data/factbook.db\n",
      "Done.\n"
     ]
    },
    {
     "data": {
      "text/html": [
       "<table>\n",
       "    <thead>\n",
       "        <tr>\n",
       "            <th>id</th>\n",
       "            <th>code</th>\n",
       "            <th>name</th>\n",
       "            <th>area</th>\n",
       "            <th>area_land</th>\n",
       "            <th>area_water</th>\n",
       "            <th>population</th>\n",
       "            <th>population_growth</th>\n",
       "            <th>birth_rate</th>\n",
       "            <th>death_rate</th>\n",
       "            <th>migration_rate</th>\n",
       "        </tr>\n",
       "    </thead>\n",
       "    <tbody>\n",
       "        <tr>\n",
       "            <td>228</td>\n",
       "            <td>io</td>\n",
       "            <td>British Indian Ocean Territory</td>\n",
       "            <td>54400</td>\n",
       "            <td>60</td>\n",
       "            <td>54340</td>\n",
       "            <td>None</td>\n",
       "            <td>None</td>\n",
       "            <td>None</td>\n",
       "            <td>None</td>\n",
       "            <td>None</td>\n",
       "        </tr>\n",
       "        <tr>\n",
       "            <td>247</td>\n",
       "            <td>vq</td>\n",
       "            <td>Virgin Islands</td>\n",
       "            <td>1910</td>\n",
       "            <td>346</td>\n",
       "            <td>1564</td>\n",
       "            <td>103574</td>\n",
       "            <td>0.59</td>\n",
       "            <td>10.31</td>\n",
       "            <td>8.54</td>\n",
       "            <td>7.67</td>\n",
       "        </tr>\n",
       "    </tbody>\n",
       "</table>"
      ],
      "text/plain": [
       "[(228, 'io', 'British Indian Ocean Territory', 54400, 60, 54340, None, None, None, None, None),\n",
       " (247, 'vq', 'Virgin Islands', 1910, 346, 1564, 103574, 0.59, 10.31, 8.54, 7.67)]"
      ]
     },
     "execution_count": 13,
     "metadata": {},
     "output_type": "execute_result"
    }
   ],
   "source": [
    "%%sql\n",
    "SELECT * FROM facts\n",
    "WHERE area_water > area_land"
   ]
  },
  {
   "cell_type": "markdown",
   "id": "73e38eba",
   "metadata": {
    "papermill": {
     "duration": 0.012598,
     "end_time": "2022-06-20T19:34:35.063002",
     "exception": false,
     "start_time": "2022-06-20T19:34:35.050404",
     "status": "completed"
    },
    "tags": []
   },
   "source": [
    "* Which countries will add the most people to their population next year?\n"
   ]
  },
  {
   "cell_type": "code",
   "execution_count": 14,
   "id": "f81bc9cd",
   "metadata": {
    "collapsed": false,
    "execution": {
     "iopub.execute_input": "2022-06-20T19:34:35.090907Z",
     "iopub.status.busy": "2022-06-20T19:34:35.090474Z",
     "iopub.status.idle": "2022-06-20T19:34:35.103346Z",
     "shell.execute_reply": "2022-06-20T19:34:35.102335Z"
    },
    "jupyter": {
     "outputs_hidden": false
    },
    "papermill": {
     "duration": 0.029549,
     "end_time": "2022-06-20T19:34:35.105360",
     "exception": false,
     "start_time": "2022-06-20T19:34:35.075811",
     "status": "completed"
    },
    "tags": []
   },
   "outputs": [
    {
     "name": "stdout",
     "output_type": "stream",
     "text": [
      " * sqlite:////kaggle/input/cia-factbook-data/factbook.db\n",
      "Done.\n"
     ]
    },
    {
     "data": {
      "text/html": [
       "<table>\n",
       "    <thead>\n",
       "        <tr>\n",
       "            <th>name</th>\n",
       "            <th>absolute_growth</th>\n",
       "        </tr>\n",
       "    </thead>\n",
       "    <tbody>\n",
       "        <tr>\n",
       "            <td>India</td>\n",
       "            <td>15270685</td>\n",
       "        </tr>\n",
       "        <tr>\n",
       "            <td>China</td>\n",
       "            <td>6153683</td>\n",
       "        </tr>\n",
       "        <tr>\n",
       "            <td>Nigeria</td>\n",
       "            <td>4448269</td>\n",
       "        </tr>\n",
       "        <tr>\n",
       "            <td>Pakistan</td>\n",
       "            <td>2906652</td>\n",
       "        </tr>\n",
       "        <tr>\n",
       "            <td>Ethiopia</td>\n",
       "            <td>2874561</td>\n",
       "        </tr>\n",
       "        <tr>\n",
       "            <td>Bangladesh</td>\n",
       "            <td>2703323</td>\n",
       "        </tr>\n",
       "        <tr>\n",
       "            <td>United States</td>\n",
       "            <td>2506676</td>\n",
       "        </tr>\n",
       "        <tr>\n",
       "            <td>Indonesia</td>\n",
       "            <td>2355141</td>\n",
       "        </tr>\n",
       "        <tr>\n",
       "            <td>Congo, Democratic Republic of the</td>\n",
       "            <td>1944689</td>\n",
       "        </tr>\n",
       "        <tr>\n",
       "            <td>Philippines</td>\n",
       "            <td>1626072</td>\n",
       "        </tr>\n",
       "    </tbody>\n",
       "</table>"
      ],
      "text/plain": [
       "[('India', 15270685),\n",
       " ('China', 6153683),\n",
       " ('Nigeria', 4448269),\n",
       " ('Pakistan', 2906652),\n",
       " ('Ethiopia', 2874561),\n",
       " ('Bangladesh', 2703323),\n",
       " ('United States', 2506676),\n",
       " ('Indonesia', 2355141),\n",
       " ('Congo, Democratic Republic of the', 1944689),\n",
       " ('Philippines', 1626072)]"
      ]
     },
     "execution_count": 14,
     "metadata": {},
     "output_type": "execute_result"
    }
   ],
   "source": [
    "%%sql\n",
    "SELECT   name, \n",
    "         CAST(population/100 * population_growth AS int) AS absolute_growth \n",
    "FROM     facts \n",
    "WHERE    name <> 'World' \n",
    "ORDER BY absolute_growth DESC \n",
    "LIMIT    10"
   ]
  },
  {
   "cell_type": "markdown",
   "id": "ac26e7e7",
   "metadata": {
    "papermill": {
     "duration": 0.013153,
     "end_time": "2022-06-20T19:34:35.132110",
     "exception": false,
     "start_time": "2022-06-20T19:34:35.118957",
     "status": "completed"
    },
    "tags": []
   },
   "source": [
    "* Which countries have a higher death rate than birth rate"
   ]
  },
  {
   "cell_type": "code",
   "execution_count": 15,
   "id": "4e7a0e7a",
   "metadata": {
    "collapsed": false,
    "execution": {
     "iopub.execute_input": "2022-06-20T19:34:35.159460Z",
     "iopub.status.busy": "2022-06-20T19:34:35.159051Z",
     "iopub.status.idle": "2022-06-20T19:34:35.171326Z",
     "shell.execute_reply": "2022-06-20T19:34:35.170179Z"
    },
    "jupyter": {
     "outputs_hidden": false
    },
    "papermill": {
     "duration": 0.028541,
     "end_time": "2022-06-20T19:34:35.173623",
     "exception": false,
     "start_time": "2022-06-20T19:34:35.145082",
     "status": "completed"
    },
    "tags": []
   },
   "outputs": [
    {
     "name": "stdout",
     "output_type": "stream",
     "text": [
      " * sqlite:////kaggle/input/cia-factbook-data/factbook.db\n",
      "Done.\n"
     ]
    },
    {
     "data": {
      "text/html": [
       "<table>\n",
       "    <thead>\n",
       "        <tr>\n",
       "            <th>id</th>\n",
       "            <th>code</th>\n",
       "            <th>name</th>\n",
       "            <th>area</th>\n",
       "            <th>area_land</th>\n",
       "            <th>area_water</th>\n",
       "            <th>population</th>\n",
       "            <th>population_growth</th>\n",
       "            <th>birth_rate</th>\n",
       "            <th>death_rate</th>\n",
       "            <th>migration_rate</th>\n",
       "        </tr>\n",
       "    </thead>\n",
       "    <tbody>\n",
       "        <tr>\n",
       "            <td>183</td>\n",
       "            <td>up</td>\n",
       "            <td>Ukraine</td>\n",
       "            <td>603550</td>\n",
       "            <td>579330</td>\n",
       "            <td>24220</td>\n",
       "            <td>44429471</td>\n",
       "            <td>0.6</td>\n",
       "            <td>10.72</td>\n",
       "            <td>14.46</td>\n",
       "            <td>2.25</td>\n",
       "        </tr>\n",
       "        <tr>\n",
       "            <td>26</td>\n",
       "            <td>bu</td>\n",
       "            <td>Bulgaria</td>\n",
       "            <td>110879</td>\n",
       "            <td>108489</td>\n",
       "            <td>2390</td>\n",
       "            <td>7186893</td>\n",
       "            <td>0.58</td>\n",
       "            <td>8.92</td>\n",
       "            <td>14.44</td>\n",
       "            <td>0.29</td>\n",
       "        </tr>\n",
       "        <tr>\n",
       "            <td>96</td>\n",
       "            <td>lg</td>\n",
       "            <td>Latvia</td>\n",
       "            <td>64589</td>\n",
       "            <td>62249</td>\n",
       "            <td>2340</td>\n",
       "            <td>1986705</td>\n",
       "            <td>1.06</td>\n",
       "            <td>10.0</td>\n",
       "            <td>14.31</td>\n",
       "            <td>6.26</td>\n",
       "        </tr>\n",
       "        <tr>\n",
       "            <td>102</td>\n",
       "            <td>lh</td>\n",
       "            <td>Lithuania</td>\n",
       "            <td>65300</td>\n",
       "            <td>62680</td>\n",
       "            <td>2620</td>\n",
       "            <td>2884433</td>\n",
       "            <td>1.04</td>\n",
       "            <td>10.1</td>\n",
       "            <td>14.27</td>\n",
       "            <td>6.27</td>\n",
       "        </tr>\n",
       "        <tr>\n",
       "            <td>143</td>\n",
       "            <td>rs</td>\n",
       "            <td>Russia</td>\n",
       "            <td>17098242</td>\n",
       "            <td>16377742</td>\n",
       "            <td>720500</td>\n",
       "            <td>142423773</td>\n",
       "            <td>0.04</td>\n",
       "            <td>11.6</td>\n",
       "            <td>13.69</td>\n",
       "            <td>1.69</td>\n",
       "        </tr>\n",
       "        <tr>\n",
       "            <td>153</td>\n",
       "            <td>ri</td>\n",
       "            <td>Serbia</td>\n",
       "            <td>77474</td>\n",
       "            <td>77474</td>\n",
       "            <td>0</td>\n",
       "            <td>7176794</td>\n",
       "            <td>0.46</td>\n",
       "            <td>9.08</td>\n",
       "            <td>13.66</td>\n",
       "            <td>0.0</td>\n",
       "        </tr>\n",
       "        <tr>\n",
       "            <td>16</td>\n",
       "            <td>bo</td>\n",
       "            <td>Belarus</td>\n",
       "            <td>207600</td>\n",
       "            <td>202900</td>\n",
       "            <td>4700</td>\n",
       "            <td>9589689</td>\n",
       "            <td>0.2</td>\n",
       "            <td>10.7</td>\n",
       "            <td>13.36</td>\n",
       "            <td>0.7</td>\n",
       "        </tr>\n",
       "        <tr>\n",
       "            <td>75</td>\n",
       "            <td>hu</td>\n",
       "            <td>Hungary</td>\n",
       "            <td>93028</td>\n",
       "            <td>89608</td>\n",
       "            <td>3420</td>\n",
       "            <td>9897541</td>\n",
       "            <td>0.22</td>\n",
       "            <td>9.16</td>\n",
       "            <td>12.73</td>\n",
       "            <td>1.33</td>\n",
       "        </tr>\n",
       "        <tr>\n",
       "            <td>116</td>\n",
       "            <td>md</td>\n",
       "            <td>Moldova</td>\n",
       "            <td>33851</td>\n",
       "            <td>32891</td>\n",
       "            <td>960</td>\n",
       "            <td>3546847</td>\n",
       "            <td>1.03</td>\n",
       "            <td>12.0</td>\n",
       "            <td>12.59</td>\n",
       "            <td>9.67</td>\n",
       "        </tr>\n",
       "        <tr>\n",
       "            <td>57</td>\n",
       "            <td>en</td>\n",
       "            <td>Estonia</td>\n",
       "            <td>45228</td>\n",
       "            <td>42388</td>\n",
       "            <td>2840</td>\n",
       "            <td>1265420</td>\n",
       "            <td>0.55</td>\n",
       "            <td>10.51</td>\n",
       "            <td>12.4</td>\n",
       "            <td>3.6</td>\n",
       "        </tr>\n",
       "    </tbody>\n",
       "</table>"
      ],
      "text/plain": [
       "[(183, 'up', 'Ukraine', 603550, 579330, 24220, 44429471, 0.6, 10.72, 14.46, 2.25),\n",
       " (26, 'bu', 'Bulgaria', 110879, 108489, 2390, 7186893, 0.58, 8.92, 14.44, 0.29),\n",
       " (96, 'lg', 'Latvia', 64589, 62249, 2340, 1986705, 1.06, 10.0, 14.31, 6.26),\n",
       " (102, 'lh', 'Lithuania', 65300, 62680, 2620, 2884433, 1.04, 10.1, 14.27, 6.27),\n",
       " (143, 'rs', 'Russia', 17098242, 16377742, 720500, 142423773, 0.04, 11.6, 13.69, 1.69),\n",
       " (153, 'ri', 'Serbia', 77474, 77474, 0, 7176794, 0.46, 9.08, 13.66, 0.0),\n",
       " (16, 'bo', 'Belarus', 207600, 202900, 4700, 9589689, 0.2, 10.7, 13.36, 0.7),\n",
       " (75, 'hu', 'Hungary', 93028, 89608, 3420, 9897541, 0.22, 9.16, 12.73, 1.33),\n",
       " (116, 'md', 'Moldova', 33851, 32891, 960, 3546847, 1.03, 12.0, 12.59, 9.67),\n",
       " (57, 'en', 'Estonia', 45228, 42388, 2840, 1265420, 0.55, 10.51, 12.4, 3.6)]"
      ]
     },
     "execution_count": 15,
     "metadata": {},
     "output_type": "execute_result"
    }
   ],
   "source": [
    "%%sql\n",
    "SELECT * FROM facts \n",
    "WHERE death_rate > birth_rate\n",
    "ORDER BY death_rate DESC\n",
    "LIMIT 10"
   ]
  },
  {
   "cell_type": "markdown",
   "id": "fe428f40",
   "metadata": {
    "papermill": {
     "duration": 0.012932,
     "end_time": "2022-06-20T19:34:35.199731",
     "exception": false,
     "start_time": "2022-06-20T19:34:35.186799",
     "status": "completed"
    },
    "tags": []
   },
   "source": [
    "* What country has the highest growth rate? "
   ]
  },
  {
   "cell_type": "code",
   "execution_count": 16,
   "id": "a88e9430",
   "metadata": {
    "execution": {
     "iopub.execute_input": "2022-06-20T19:34:35.228218Z",
     "iopub.status.busy": "2022-06-20T19:34:35.227395Z",
     "iopub.status.idle": "2022-06-20T19:34:35.241672Z",
     "shell.execute_reply": "2022-06-20T19:34:35.240382Z"
    },
    "papermill": {
     "duration": 0.031192,
     "end_time": "2022-06-20T19:34:35.244112",
     "exception": false,
     "start_time": "2022-06-20T19:34:35.212920",
     "status": "completed"
    },
    "tags": []
   },
   "outputs": [
    {
     "name": "stdout",
     "output_type": "stream",
     "text": [
      " * sqlite:////kaggle/input/cia-factbook-data/factbook.db\n",
      "Done.\n"
     ]
    },
    {
     "data": {
      "text/html": [
       "<table>\n",
       "    <thead>\n",
       "        <tr>\n",
       "            <th>name</th>\n",
       "            <th>population_growth</th>\n",
       "        </tr>\n",
       "    </thead>\n",
       "    <tbody>\n",
       "        <tr>\n",
       "            <td>South Sudan</td>\n",
       "            <td>4.02</td>\n",
       "        </tr>\n",
       "    </tbody>\n",
       "</table>"
      ],
      "text/plain": [
       "[('South Sudan', 4.02)]"
      ]
     },
     "execution_count": 16,
     "metadata": {},
     "output_type": "execute_result"
    }
   ],
   "source": [
    "%%sql\n",
    "\n",
    "\n",
    "SELECT name, \n",
    "       population_growth \n",
    "FROM   facts \n",
    "WHERE  population_growth = (SELECT Max(population_growth) \n",
    "                            FROM   facts \n",
    "                            WHERE  population != (SELECT Max(population) \n",
    "                                                  FROM   facts)) "
   ]
  },
  {
   "cell_type": "markdown",
   "id": "02840f57",
   "metadata": {
    "papermill": {
     "duration": 0.013113,
     "end_time": "2022-06-20T19:34:35.270769",
     "exception": false,
     "start_time": "2022-06-20T19:34:35.257656",
     "status": "completed"
    },
    "tags": []
   },
   "source": [
    "* Population is more than average AND area is less than average"
   ]
  },
  {
   "cell_type": "code",
   "execution_count": 17,
   "id": "bd16ec84",
   "metadata": {
    "execution": {
     "iopub.execute_input": "2022-06-20T19:34:35.300037Z",
     "iopub.status.busy": "2022-06-20T19:34:35.299332Z",
     "iopub.status.idle": "2022-06-20T19:34:35.316765Z",
     "shell.execute_reply": "2022-06-20T19:34:35.315040Z"
    },
    "papermill": {
     "duration": 0.035202,
     "end_time": "2022-06-20T19:34:35.319577",
     "exception": false,
     "start_time": "2022-06-20T19:34:35.284375",
     "status": "completed"
    },
    "tags": []
   },
   "outputs": [
    {
     "name": "stdout",
     "output_type": "stream",
     "text": [
      " * sqlite:////kaggle/input/cia-factbook-data/factbook.db\n",
      "Done.\n"
     ]
    },
    {
     "data": {
      "text/html": [
       "<table>\n",
       "    <thead>\n",
       "        <tr>\n",
       "            <th>name</th>\n",
       "            <th>population</th>\n",
       "            <th>area</th>\n",
       "        </tr>\n",
       "    </thead>\n",
       "    <tbody>\n",
       "        <tr>\n",
       "            <td>Bangladesh</td>\n",
       "            <td>168957745</td>\n",
       "            <td>148460</td>\n",
       "        </tr>\n",
       "        <tr>\n",
       "            <td>Germany</td>\n",
       "            <td>80854408</td>\n",
       "            <td>357022</td>\n",
       "        </tr>\n",
       "        <tr>\n",
       "            <td>Iraq</td>\n",
       "            <td>37056169</td>\n",
       "            <td>438317</td>\n",
       "        </tr>\n",
       "        <tr>\n",
       "            <td>Italy</td>\n",
       "            <td>61855120</td>\n",
       "            <td>301340</td>\n",
       "        </tr>\n",
       "        <tr>\n",
       "            <td>Japan</td>\n",
       "            <td>126919659</td>\n",
       "            <td>377915</td>\n",
       "        </tr>\n",
       "        <tr>\n",
       "            <td>Kenya</td>\n",
       "            <td>45925301</td>\n",
       "            <td>580367</td>\n",
       "        </tr>\n",
       "        <tr>\n",
       "            <td>Korea, South</td>\n",
       "            <td>49115196</td>\n",
       "            <td>99720</td>\n",
       "        </tr>\n",
       "        <tr>\n",
       "            <td>Morocco</td>\n",
       "            <td>33322699</td>\n",
       "            <td>446550</td>\n",
       "        </tr>\n",
       "        <tr>\n",
       "            <td>Philippines</td>\n",
       "            <td>100998376</td>\n",
       "            <td>300000</td>\n",
       "        </tr>\n",
       "        <tr>\n",
       "            <td>Poland</td>\n",
       "            <td>38562189</td>\n",
       "            <td>312685</td>\n",
       "        </tr>\n",
       "    </tbody>\n",
       "</table>"
      ],
      "text/plain": [
       "[('Bangladesh', 168957745, 148460),\n",
       " ('Germany', 80854408, 357022),\n",
       " ('Iraq', 37056169, 438317),\n",
       " ('Italy', 61855120, 301340),\n",
       " ('Japan', 126919659, 377915),\n",
       " ('Kenya', 45925301, 580367),\n",
       " ('Korea, South', 49115196, 99720),\n",
       " ('Morocco', 33322699, 446550),\n",
       " ('Philippines', 100998376, 300000),\n",
       " ('Poland', 38562189, 312685)]"
      ]
     },
     "execution_count": 17,
     "metadata": {},
     "output_type": "execute_result"
    }
   ],
   "source": [
    "%%sql\n",
    "\n",
    "SELECT name, \n",
    "       population, \n",
    "       area \n",
    "FROM   facts \n",
    "WHERE  population > (SELECT Avg(population) \n",
    "                     FROM   facts \n",
    "                     WHERE  population != (SELECT Max(population) \n",
    "                                           FROM   facts)) \n",
    "       AND area < (SELECT Avg(area) \n",
    "                   FROM   facts \n",
    "                   WHERE  population != (SELECT Max(population) \n",
    "                                         FROM   facts)) \n",
    "LIMIT  10"
   ]
  },
  {
   "cell_type": "markdown",
   "id": "56a95131",
   "metadata": {
    "papermill": {
     "duration": 0.013968,
     "end_time": "2022-06-20T19:34:35.347886",
     "exception": false,
     "start_time": "2022-06-20T19:34:35.333918",
     "status": "completed"
    },
    "tags": []
   },
   "source": [
    "* What country has the most people? "
   ]
  },
  {
   "cell_type": "code",
   "execution_count": 18,
   "id": "c9b32d71",
   "metadata": {
    "execution": {
     "iopub.execute_input": "2022-06-20T19:34:35.378695Z",
     "iopub.status.busy": "2022-06-20T19:34:35.377920Z",
     "iopub.status.idle": "2022-06-20T19:34:35.392116Z",
     "shell.execute_reply": "2022-06-20T19:34:35.390767Z"
    },
    "papermill": {
     "duration": 0.032141,
     "end_time": "2022-06-20T19:34:35.394401",
     "exception": false,
     "start_time": "2022-06-20T19:34:35.362260",
     "status": "completed"
    },
    "tags": []
   },
   "outputs": [
    {
     "name": "stdout",
     "output_type": "stream",
     "text": [
      " * sqlite:////kaggle/input/cia-factbook-data/factbook.db\n",
      "Done.\n"
     ]
    },
    {
     "data": {
      "text/html": [
       "<table>\n",
       "    <thead>\n",
       "        <tr>\n",
       "            <th>name</th>\n",
       "            <th>population</th>\n",
       "        </tr>\n",
       "    </thead>\n",
       "    <tbody>\n",
       "        <tr>\n",
       "            <td>China</td>\n",
       "            <td>1367485388</td>\n",
       "        </tr>\n",
       "    </tbody>\n",
       "</table>"
      ],
      "text/plain": [
       "[('China', 1367485388)]"
      ]
     },
     "execution_count": 18,
     "metadata": {},
     "output_type": "execute_result"
    }
   ],
   "source": [
    "%%sql\n",
    "\n",
    "\n",
    "SELECT name, \n",
    "       population \n",
    "FROM   facts \n",
    "WHERE  population = (SELECT Max(population) \n",
    "                     FROM   facts \n",
    "                     WHERE  population != (SELECT Max(population) \n",
    "                                           FROM   facts)) "
   ]
  },
  {
   "cell_type": "code",
   "execution_count": null,
   "id": "42a44302",
   "metadata": {
    "papermill": {
     "duration": 0.013862,
     "end_time": "2022-06-20T19:34:35.422351",
     "exception": false,
     "start_time": "2022-06-20T19:34:35.408489",
     "status": "completed"
    },
    "tags": []
   },
   "outputs": [],
   "source": []
  }
 ],
 "metadata": {
  "kernelspec": {
   "display_name": "Python 3",
   "language": "python",
   "name": "python3"
  },
  "language_info": {
   "codemirror_mode": {
    "name": "ipython",
    "version": 3
   },
   "file_extension": ".py",
   "mimetype": "text/x-python",
   "name": "python",
   "nbconvert_exporter": "python",
   "pygments_lexer": "ipython3",
   "version": "3.7.12"
  },
  "papermill": {
   "default_parameters": {},
   "duration": 45.030622,
   "end_time": "2022-06-20T19:34:36.157614",
   "environment_variables": {},
   "exception": null,
   "input_path": "__notebook__.ipynb",
   "output_path": "__notebook__.ipynb",
   "parameters": {},
   "start_time": "2022-06-20T19:33:51.126992",
   "version": "2.3.4"
  }
 },
 "nbformat": 4,
 "nbformat_minor": 5
}
