{
 "cells": [
  {
   "cell_type": "markdown",
   "id": "eb3cbf2c",
   "metadata": {
    "papermill": {
     "duration": 0.009973,
     "end_time": "2022-06-20T19:50:55.862518",
     "exception": false,
     "start_time": "2022-06-20T19:50:55.852545",
     "status": "completed"
    },
    "tags": []
   },
   "source": [
    "# Requirements for sql in kaggle"
   ]
  },
  {
   "cell_type": "code",
   "execution_count": 1,
   "id": "de9ac800",
   "metadata": {
    "execution": {
     "iopub.execute_input": "2022-06-20T19:50:55.882524Z",
     "iopub.status.busy": "2022-06-20T19:50:55.881825Z",
     "iopub.status.idle": "2022-06-20T19:51:28.472137Z",
     "shell.execute_reply": "2022-06-20T19:51:28.470803Z"
    },
    "papermill": {
     "duration": 32.603444,
     "end_time": "2022-06-20T19:51:28.474983",
     "exception": false,
     "start_time": "2022-06-20T19:50:55.871539",
     "status": "completed"
    },
    "tags": []
   },
   "outputs": [
    {
     "name": "stdout",
     "output_type": "stream",
     "text": [
      "Requirement already satisfied: ipython-sql in /opt/conda/lib/python3.7/site-packages (0.3.9)\r\n",
      "Requirement already satisfied: prettytable in /opt/conda/lib/python3.7/site-packages (from ipython-sql) (3.3.0)\r\n",
      "Requirement already satisfied: ipython>=1.0 in /opt/conda/lib/python3.7/site-packages (from ipython-sql) (7.33.0)\r\n",
      "Requirement already satisfied: ipython-genutils>=0.1.0 in /opt/conda/lib/python3.7/site-packages (from ipython-sql) (0.2.0)\r\n",
      "Requirement already satisfied: six in /opt/conda/lib/python3.7/site-packages (from ipython-sql) (1.16.0)\r\n",
      "Requirement already satisfied: sqlalchemy>=0.6.7 in /opt/conda/lib/python3.7/site-packages (from ipython-sql) (1.4.36)\r\n",
      "Requirement already satisfied: sqlparse in /opt/conda/lib/python3.7/site-packages (from ipython-sql) (0.4.2)\r\n",
      "Requirement already satisfied: decorator in /opt/conda/lib/python3.7/site-packages (from ipython>=1.0->ipython-sql) (5.1.1)\r\n",
      "Requirement already satisfied: prompt-toolkit!=3.0.0,!=3.0.1,<3.1.0,>=2.0.0 in /opt/conda/lib/python3.7/site-packages (from ipython>=1.0->ipython-sql) (3.0.29)\r\n",
      "Requirement already satisfied: jedi>=0.16 in /opt/conda/lib/python3.7/site-packages (from ipython>=1.0->ipython-sql) (0.18.1)\r\n",
      "Requirement already satisfied: setuptools>=18.5 in /opt/conda/lib/python3.7/site-packages (from ipython>=1.0->ipython-sql) (59.8.0)\r\n",
      "Requirement already satisfied: matplotlib-inline in /opt/conda/lib/python3.7/site-packages (from ipython>=1.0->ipython-sql) (0.1.3)\r\n",
      "Requirement already satisfied: traitlets>=4.2 in /opt/conda/lib/python3.7/site-packages (from ipython>=1.0->ipython-sql) (5.2.0)\r\n",
      "Requirement already satisfied: backcall in /opt/conda/lib/python3.7/site-packages (from ipython>=1.0->ipython-sql) (0.2.0)\r\n",
      "Requirement already satisfied: pexpect>4.3 in /opt/conda/lib/python3.7/site-packages (from ipython>=1.0->ipython-sql) (4.8.0)\r\n",
      "Requirement already satisfied: pygments in /opt/conda/lib/python3.7/site-packages (from ipython>=1.0->ipython-sql) (2.12.0)\r\n",
      "Requirement already satisfied: pickleshare in /opt/conda/lib/python3.7/site-packages (from ipython>=1.0->ipython-sql) (0.7.5)\r\n",
      "Requirement already satisfied: importlib-metadata in /opt/conda/lib/python3.7/site-packages (from sqlalchemy>=0.6.7->ipython-sql) (4.11.4)\r\n",
      "Requirement already satisfied: greenlet!=0.4.17 in /opt/conda/lib/python3.7/site-packages (from sqlalchemy>=0.6.7->ipython-sql) (1.1.2)\r\n",
      "Requirement already satisfied: wcwidth in /opt/conda/lib/python3.7/site-packages (from prettytable->ipython-sql) (0.2.5)\r\n",
      "Requirement already satisfied: parso<0.9.0,>=0.8.0 in /opt/conda/lib/python3.7/site-packages (from jedi>=0.16->ipython>=1.0->ipython-sql) (0.8.3)\r\n",
      "Requirement already satisfied: ptyprocess>=0.5 in /opt/conda/lib/python3.7/site-packages (from pexpect>4.3->ipython>=1.0->ipython-sql) (0.7.0)\r\n",
      "Requirement already satisfied: zipp>=0.5 in /opt/conda/lib/python3.7/site-packages (from importlib-metadata->sqlalchemy>=0.6.7->ipython-sql) (3.8.0)\r\n",
      "Requirement already satisfied: typing-extensions>=3.6.4 in /opt/conda/lib/python3.7/site-packages (from importlib-metadata->sqlalchemy>=0.6.7->ipython-sql) (4.2.0)\r\n",
      "\u001b[33mWARNING: Running pip as the 'root' user can result in broken permissions and conflicting behaviour with the system package manager. It is recommended to use a virtual environment instead: https://pip.pypa.io/warnings/venv\u001b[0m\u001b[33m\r\n",
      "\u001b[0m\u001b[33mWARNING: There was an error checking the latest version of pip.\u001b[0m\u001b[33m\r\n",
      "\u001b[0m"
     ]
    }
   ],
   "source": [
    "!pip install ipython-sql"
   ]
  },
  {
   "cell_type": "code",
   "execution_count": 2,
   "id": "fad913aa",
   "metadata": {
    "execution": {
     "iopub.execute_input": "2022-06-20T19:51:28.496291Z",
     "iopub.status.busy": "2022-06-20T19:51:28.495882Z",
     "iopub.status.idle": "2022-06-20T19:51:28.535040Z",
     "shell.execute_reply": "2022-06-20T19:51:28.534149Z"
    },
    "papermill": {
     "duration": 0.052907,
     "end_time": "2022-06-20T19:51:28.537588",
     "exception": false,
     "start_time": "2022-06-20T19:51:28.484681",
     "status": "completed"
    },
    "tags": []
   },
   "outputs": [],
   "source": [
    "%%capture\n",
    "%load_ext sql\n",
    "%sql sqlite:////kaggle/input/cia-factbook-data/factbook.db"
   ]
  },
  {
   "cell_type": "markdown",
   "id": "3fbec33c",
   "metadata": {
    "papermill": {
     "duration": 0.009529,
     "end_time": "2022-06-20T19:51:28.556956",
     "exception": false,
     "start_time": "2022-06-20T19:51:28.547427",
     "status": "completed"
    },
    "tags": []
   },
   "source": [
    "## First table view"
   ]
  },
  {
   "cell_type": "code",
   "execution_count": 3,
   "id": "602bd885",
   "metadata": {
    "collapsed": false,
    "execution": {
     "iopub.execute_input": "2022-06-20T19:51:28.578207Z",
     "iopub.status.busy": "2022-06-20T19:51:28.577837Z",
     "iopub.status.idle": "2022-06-20T19:51:28.595410Z",
     "shell.execute_reply": "2022-06-20T19:51:28.594410Z"
    },
    "jupyter": {
     "outputs_hidden": false
    },
    "papermill": {
     "duration": 0.031026,
     "end_time": "2022-06-20T19:51:28.597731",
     "exception": false,
     "start_time": "2022-06-20T19:51:28.566705",
     "status": "completed"
    },
    "tags": []
   },
   "outputs": [
    {
     "name": "stdout",
     "output_type": "stream",
     "text": [
      " * sqlite:////kaggle/input/cia-factbook-data/factbook.db\n",
      "Done.\n"
     ]
    },
    {
     "data": {
      "text/html": [
       "<table>\n",
       "    <thead>\n",
       "        <tr>\n",
       "            <th>type</th>\n",
       "            <th>name</th>\n",
       "            <th>tbl_name</th>\n",
       "            <th>rootpage</th>\n",
       "            <th>sql</th>\n",
       "        </tr>\n",
       "    </thead>\n",
       "    <tbody>\n",
       "        <tr>\n",
       "            <td>table</td>\n",
       "            <td>sqlite_sequence</td>\n",
       "            <td>sqlite_sequence</td>\n",
       "            <td>3</td>\n",
       "            <td>CREATE TABLE sqlite_sequence(name,seq)</td>\n",
       "        </tr>\n",
       "        <tr>\n",
       "            <td>table</td>\n",
       "            <td>facts</td>\n",
       "            <td>facts</td>\n",
       "            <td>47</td>\n",
       "            <td>CREATE TABLE &quot;facts&quot; (&quot;id&quot; INTEGER PRIMARY KEY AUTOINCREMENT NOT NULL, &quot;code&quot; varchar(255) NOT NULL, &quot;name&quot; varchar(255) NOT NULL, &quot;area&quot; integer, &quot;area_land&quot; integer, &quot;area_water&quot; integer, &quot;population&quot; integer, &quot;population_growth&quot; float, &quot;birth_rate&quot; float, &quot;death_rate&quot; float, &quot;migration_rate&quot; float)</td>\n",
       "        </tr>\n",
       "    </tbody>\n",
       "</table>"
      ],
      "text/plain": [
       "[('table', 'sqlite_sequence', 'sqlite_sequence', 3, 'CREATE TABLE sqlite_sequence(name,seq)'),\n",
       " ('table', 'facts', 'facts', 47, 'CREATE TABLE \"facts\" (\"id\" INTEGER PRIMARY KEY AUTOINCREMENT NOT NULL, \"code\" varchar(255) NOT NULL, \"name\" varchar(255) NOT NULL, \"area\" integer, \"a ... (4 characters truncated) ... land\" integer, \"area_water\" integer, \"population\" integer, \"population_growth\" float, \"birth_rate\" float, \"death_rate\" float, \"migration_rate\" float)')]"
      ]
     },
     "execution_count": 3,
     "metadata": {},
     "output_type": "execute_result"
    }
   ],
   "source": [
    "%%sql\n",
    "SELECT * FROM sqlite_master WHERE type='table';"
   ]
  },
  {
   "cell_type": "code",
   "execution_count": 4,
   "id": "5b573a00",
   "metadata": {
    "collapsed": false,
    "execution": {
     "iopub.execute_input": "2022-06-20T19:51:28.618956Z",
     "iopub.status.busy": "2022-06-20T19:51:28.618587Z",
     "iopub.status.idle": "2022-06-20T19:51:28.634529Z",
     "shell.execute_reply": "2022-06-20T19:51:28.633050Z"
    },
    "jupyter": {
     "outputs_hidden": false
    },
    "papermill": {
     "duration": 0.029217,
     "end_time": "2022-06-20T19:51:28.636866",
     "exception": false,
     "start_time": "2022-06-20T19:51:28.607649",
     "status": "completed"
    },
    "tags": []
   },
   "outputs": [
    {
     "name": "stdout",
     "output_type": "stream",
     "text": [
      " * sqlite:////kaggle/input/cia-factbook-data/factbook.db\n",
      "Done.\n"
     ]
    },
    {
     "data": {
      "text/html": [
       "<table>\n",
       "    <thead>\n",
       "        <tr>\n",
       "            <th>id</th>\n",
       "            <th>code</th>\n",
       "            <th>name</th>\n",
       "            <th>area</th>\n",
       "            <th>area_land</th>\n",
       "            <th>area_water</th>\n",
       "            <th>population</th>\n",
       "            <th>population_growth</th>\n",
       "            <th>birth_rate</th>\n",
       "            <th>death_rate</th>\n",
       "            <th>migration_rate</th>\n",
       "        </tr>\n",
       "    </thead>\n",
       "    <tbody>\n",
       "        <tr>\n",
       "            <td>1</td>\n",
       "            <td>af</td>\n",
       "            <td>Afghanistan</td>\n",
       "            <td>652230</td>\n",
       "            <td>652230</td>\n",
       "            <td>0</td>\n",
       "            <td>32564342</td>\n",
       "            <td>2.32</td>\n",
       "            <td>38.57</td>\n",
       "            <td>13.89</td>\n",
       "            <td>1.51</td>\n",
       "        </tr>\n",
       "        <tr>\n",
       "            <td>2</td>\n",
       "            <td>al</td>\n",
       "            <td>Albania</td>\n",
       "            <td>28748</td>\n",
       "            <td>27398</td>\n",
       "            <td>1350</td>\n",
       "            <td>3029278</td>\n",
       "            <td>0.3</td>\n",
       "            <td>12.92</td>\n",
       "            <td>6.58</td>\n",
       "            <td>3.3</td>\n",
       "        </tr>\n",
       "        <tr>\n",
       "            <td>3</td>\n",
       "            <td>ag</td>\n",
       "            <td>Algeria</td>\n",
       "            <td>2381741</td>\n",
       "            <td>2381741</td>\n",
       "            <td>0</td>\n",
       "            <td>39542166</td>\n",
       "            <td>1.84</td>\n",
       "            <td>23.67</td>\n",
       "            <td>4.31</td>\n",
       "            <td>0.92</td>\n",
       "        </tr>\n",
       "        <tr>\n",
       "            <td>4</td>\n",
       "            <td>an</td>\n",
       "            <td>Andorra</td>\n",
       "            <td>468</td>\n",
       "            <td>468</td>\n",
       "            <td>0</td>\n",
       "            <td>85580</td>\n",
       "            <td>0.12</td>\n",
       "            <td>8.13</td>\n",
       "            <td>6.96</td>\n",
       "            <td>0.0</td>\n",
       "        </tr>\n",
       "        <tr>\n",
       "            <td>5</td>\n",
       "            <td>ao</td>\n",
       "            <td>Angola</td>\n",
       "            <td>1246700</td>\n",
       "            <td>1246700</td>\n",
       "            <td>0</td>\n",
       "            <td>19625353</td>\n",
       "            <td>2.78</td>\n",
       "            <td>38.78</td>\n",
       "            <td>11.49</td>\n",
       "            <td>0.46</td>\n",
       "        </tr>\n",
       "    </tbody>\n",
       "</table>"
      ],
      "text/plain": [
       "[(1, 'af', 'Afghanistan', 652230, 652230, 0, 32564342, 2.32, 38.57, 13.89, 1.51),\n",
       " (2, 'al', 'Albania', 28748, 27398, 1350, 3029278, 0.3, 12.92, 6.58, 3.3),\n",
       " (3, 'ag', 'Algeria', 2381741, 2381741, 0, 39542166, 1.84, 23.67, 4.31, 0.92),\n",
       " (4, 'an', 'Andorra', 468, 468, 0, 85580, 0.12, 8.13, 6.96, 0.0),\n",
       " (5, 'ao', 'Angola', 1246700, 1246700, 0, 19625353, 2.78, 38.78, 11.49, 0.46)]"
      ]
     },
     "execution_count": 4,
     "metadata": {},
     "output_type": "execute_result"
    }
   ],
   "source": [
    "%%sql\n",
    "SELECT * FROM facts LIMIT 5"
   ]
  },
  {
   "cell_type": "markdown",
   "id": "91f606d0",
   "metadata": {
    "papermill": {
     "duration": 0.00987,
     "end_time": "2022-06-20T19:51:28.657371",
     "exception": false,
     "start_time": "2022-06-20T19:51:28.647501",
     "status": "completed"
    },
    "tags": []
   },
   "source": [
    "|Column||Description|\n",
    "|------||-----------|\n",
    "|name||The name of the country.|\n",
    "|area||The country's total area (both land and water).|\n",
    "|area_land||The country's land area in square kilometers.|\n",
    "|area_water||The country's waterarea in square kilometers.|\n",
    "|population||The country's population.|\n",
    "|population_growth||The country's population growth as a percentage.|\n",
    "|birth_rate||The country's birth rate, or the number of births a year per 1,000 people.|\n",
    "|death_rate||The country's death rate, or the number of death a year per 1,000 people.|"
   ]
  },
  {
   "cell_type": "markdown",
   "id": "721b4307",
   "metadata": {
    "papermill": {
     "duration": 0.009677,
     "end_time": "2022-06-20T19:51:28.677309",
     "exception": false,
     "start_time": "2022-06-20T19:51:28.667632",
     "status": "completed"
    },
    "tags": []
   },
   "source": [
    "## Data anomalies"
   ]
  },
  {
   "cell_type": "code",
   "execution_count": 5,
   "id": "1b6d474c",
   "metadata": {
    "execution": {
     "iopub.execute_input": "2022-06-20T19:51:28.699428Z",
     "iopub.status.busy": "2022-06-20T19:51:28.698791Z",
     "iopub.status.idle": "2022-06-20T19:51:28.712230Z",
     "shell.execute_reply": "2022-06-20T19:51:28.711515Z"
    },
    "papermill": {
     "duration": 0.026665,
     "end_time": "2022-06-20T19:51:28.713899",
     "exception": false,
     "start_time": "2022-06-20T19:51:28.687234",
     "status": "completed"
    },
    "tags": []
   },
   "outputs": [
    {
     "name": "stdout",
     "output_type": "stream",
     "text": [
      " * sqlite:////kaggle/input/cia-factbook-data/factbook.db\n",
      "Done.\n"
     ]
    },
    {
     "data": {
      "text/html": [
       "<table>\n",
       "    <thead>\n",
       "        <tr>\n",
       "            <th>Min(population)</th>\n",
       "            <th>Max(population)</th>\n",
       "            <th>Min(population_growth)</th>\n",
       "            <th>Max(population_growth)</th>\n",
       "        </tr>\n",
       "    </thead>\n",
       "    <tbody>\n",
       "        <tr>\n",
       "            <td>0</td>\n",
       "            <td>7256490011</td>\n",
       "            <td>0.0</td>\n",
       "            <td>4.02</td>\n",
       "        </tr>\n",
       "    </tbody>\n",
       "</table>"
      ],
      "text/plain": [
       "[(0, 7256490011, 0.0, 4.02)]"
      ]
     },
     "execution_count": 5,
     "metadata": {},
     "output_type": "execute_result"
    }
   ],
   "source": [
    "%%sql\n",
    "\n",
    "SELECT Min(population), \n",
    "       Max(population), \n",
    "       Min(population_growth), \n",
    "       Max(population_growth) \n",
    "FROM   facts "
   ]
  },
  {
   "cell_type": "markdown",
   "id": "fe4af5fb",
   "metadata": {
    "papermill": {
     "duration": 0.010011,
     "end_time": "2022-06-20T19:51:28.734239",
     "exception": false,
     "start_time": "2022-06-20T19:51:28.724228",
     "status": "completed"
    },
    "tags": []
   },
   "source": [
    "#### Country with no population at all (min population in the table)"
   ]
  },
  {
   "cell_type": "code",
   "execution_count": 6,
   "id": "6b212e65",
   "metadata": {
    "execution": {
     "iopub.execute_input": "2022-06-20T19:51:28.756214Z",
     "iopub.status.busy": "2022-06-20T19:51:28.755842Z",
     "iopub.status.idle": "2022-06-20T19:51:28.765950Z",
     "shell.execute_reply": "2022-06-20T19:51:28.764863Z"
    },
    "papermill": {
     "duration": 0.023706,
     "end_time": "2022-06-20T19:51:28.768131",
     "exception": false,
     "start_time": "2022-06-20T19:51:28.744425",
     "status": "completed"
    },
    "tags": []
   },
   "outputs": [
    {
     "name": "stdout",
     "output_type": "stream",
     "text": [
      " * sqlite:////kaggle/input/cia-factbook-data/factbook.db\n",
      "Done.\n"
     ]
    },
    {
     "data": {
      "text/html": [
       "<table>\n",
       "    <thead>\n",
       "        <tr>\n",
       "            <th>name</th>\n",
       "            <th>population</th>\n",
       "        </tr>\n",
       "    </thead>\n",
       "    <tbody>\n",
       "        <tr>\n",
       "            <td>Antarctica</td>\n",
       "            <td>0</td>\n",
       "        </tr>\n",
       "    </tbody>\n",
       "</table>"
      ],
      "text/plain": [
       "[('Antarctica', 0)]"
      ]
     },
     "execution_count": 6,
     "metadata": {},
     "output_type": "execute_result"
    }
   ],
   "source": [
    "%%sql\n",
    "SELECT name, \n",
    "       population \n",
    "FROM   facts \n",
    "WHERE  population = (SELECT Min(population) FROM   facts) "
   ]
  },
  {
   "cell_type": "code",
   "execution_count": 7,
   "id": "5e2842df",
   "metadata": {
    "collapsed": false,
    "execution": {
     "iopub.execute_input": "2022-06-20T19:51:28.792570Z",
     "iopub.status.busy": "2022-06-20T19:51:28.791893Z",
     "iopub.status.idle": "2022-06-20T19:51:28.803018Z",
     "shell.execute_reply": "2022-06-20T19:51:28.801735Z"
    },
    "jupyter": {
     "outputs_hidden": false
    },
    "papermill": {
     "duration": 0.025191,
     "end_time": "2022-06-20T19:51:28.805021",
     "exception": false,
     "start_time": "2022-06-20T19:51:28.779830",
     "status": "completed"
    },
    "tags": []
   },
   "outputs": [
    {
     "name": "stdout",
     "output_type": "stream",
     "text": [
      " * sqlite:////kaggle/input/cia-factbook-data/factbook.db\n",
      "Done.\n"
     ]
    },
    {
     "data": {
      "text/html": [
       "<table>\n",
       "    <thead>\n",
       "        <tr>\n",
       "            <th>MIN(population)</th>\n",
       "            <th>MAX(population)</th>\n",
       "            <th>MIN(population_growth)</th>\n",
       "            <th>MAX(population_growth)</th>\n",
       "        </tr>\n",
       "    </thead>\n",
       "    <tbody>\n",
       "        <tr>\n",
       "            <td>0</td>\n",
       "            <td>7256490011</td>\n",
       "            <td>0.0</td>\n",
       "            <td>4.02</td>\n",
       "        </tr>\n",
       "    </tbody>\n",
       "</table>"
      ],
      "text/plain": [
       "[(0, 7256490011, 0.0, 4.02)]"
      ]
     },
     "execution_count": 7,
     "metadata": {},
     "output_type": "execute_result"
    }
   ],
   "source": [
    "%%sql\n",
    "select MIN(population), MAX(population), MIN(population_growth), MAX(population_growth) \n",
    "FROM facts"
   ]
  },
  {
   "cell_type": "code",
   "execution_count": 8,
   "id": "f0bc226e",
   "metadata": {
    "collapsed": false,
    "execution": {
     "iopub.execute_input": "2022-06-20T19:51:28.828419Z",
     "iopub.status.busy": "2022-06-20T19:51:28.828037Z",
     "iopub.status.idle": "2022-06-20T19:51:28.840062Z",
     "shell.execute_reply": "2022-06-20T19:51:28.838915Z"
    },
    "jupyter": {
     "outputs_hidden": false
    },
    "papermill": {
     "duration": 0.026469,
     "end_time": "2022-06-20T19:51:28.842358",
     "exception": false,
     "start_time": "2022-06-20T19:51:28.815889",
     "status": "completed"
    },
    "tags": []
   },
   "outputs": [
    {
     "name": "stdout",
     "output_type": "stream",
     "text": [
      " * sqlite:////kaggle/input/cia-factbook-data/factbook.db\n",
      "Done.\n"
     ]
    },
    {
     "data": {
      "text/html": [
       "<table>\n",
       "    <thead>\n",
       "        <tr>\n",
       "            <th>id</th>\n",
       "            <th>code</th>\n",
       "            <th>name</th>\n",
       "            <th>area</th>\n",
       "            <th>area_land</th>\n",
       "            <th>area_water</th>\n",
       "            <th>population</th>\n",
       "            <th>population_growth</th>\n",
       "            <th>birth_rate</th>\n",
       "            <th>death_rate</th>\n",
       "            <th>migration_rate</th>\n",
       "        </tr>\n",
       "    </thead>\n",
       "    <tbody>\n",
       "        <tr>\n",
       "            <td>250</td>\n",
       "            <td>ay</td>\n",
       "            <td>Antarctica</td>\n",
       "            <td>None</td>\n",
       "            <td>280000</td>\n",
       "            <td>None</td>\n",
       "            <td>0</td>\n",
       "            <td>None</td>\n",
       "            <td>None</td>\n",
       "            <td>None</td>\n",
       "            <td>None</td>\n",
       "        </tr>\n",
       "    </tbody>\n",
       "</table>"
      ],
      "text/plain": [
       "[(250, 'ay', 'Antarctica', None, 280000, None, 0, None, None, None, None)]"
      ]
     },
     "execution_count": 8,
     "metadata": {},
     "output_type": "execute_result"
    }
   ],
   "source": [
    "%%sql\n",
    "SELECT * from facts\n",
    "WHERE population == (SELECT MIN(population) FROM facts)"
   ]
  },
  {
   "cell_type": "code",
   "execution_count": 9,
   "id": "7640cf12",
   "metadata": {
    "collapsed": false,
    "execution": {
     "iopub.execute_input": "2022-06-20T19:51:28.865981Z",
     "iopub.status.busy": "2022-06-20T19:51:28.865587Z",
     "iopub.status.idle": "2022-06-20T19:51:28.877991Z",
     "shell.execute_reply": "2022-06-20T19:51:28.876903Z"
    },
    "jupyter": {
     "outputs_hidden": false
    },
    "papermill": {
     "duration": 0.027345,
     "end_time": "2022-06-20T19:51:28.880780",
     "exception": false,
     "start_time": "2022-06-20T19:51:28.853435",
     "status": "completed"
    },
    "tags": []
   },
   "outputs": [
    {
     "name": "stdout",
     "output_type": "stream",
     "text": [
      " * sqlite:////kaggle/input/cia-factbook-data/factbook.db\n",
      "Done.\n"
     ]
    },
    {
     "data": {
      "text/html": [
       "<table>\n",
       "    <thead>\n",
       "        <tr>\n",
       "            <th>id</th>\n",
       "            <th>code</th>\n",
       "            <th>name</th>\n",
       "            <th>area</th>\n",
       "            <th>area_land</th>\n",
       "            <th>area_water</th>\n",
       "            <th>population</th>\n",
       "            <th>population_growth</th>\n",
       "            <th>birth_rate</th>\n",
       "            <th>death_rate</th>\n",
       "            <th>migration_rate</th>\n",
       "        </tr>\n",
       "    </thead>\n",
       "    <tbody>\n",
       "        <tr>\n",
       "            <td>261</td>\n",
       "            <td>xx</td>\n",
       "            <td>World</td>\n",
       "            <td>None</td>\n",
       "            <td>None</td>\n",
       "            <td>None</td>\n",
       "            <td>7256490011</td>\n",
       "            <td>1.08</td>\n",
       "            <td>18.6</td>\n",
       "            <td>7.8</td>\n",
       "            <td>None</td>\n",
       "        </tr>\n",
       "    </tbody>\n",
       "</table>"
      ],
      "text/plain": [
       "[(261, 'xx', 'World', None, None, None, 7256490011, 1.08, 18.6, 7.8, None)]"
      ]
     },
     "execution_count": 9,
     "metadata": {},
     "output_type": "execute_result"
    }
   ],
   "source": [
    "%%sql\n",
    "SELECT * from facts\n",
    "WHERE population == (SELECT MAX(population) FROM facts)"
   ]
  },
  {
   "cell_type": "markdown",
   "id": "651e0410",
   "metadata": {
    "papermill": {
     "duration": 0.01137,
     "end_time": "2022-06-20T19:51:28.904094",
     "exception": false,
     "start_time": "2022-06-20T19:51:28.892724",
     "status": "completed"
    },
    "tags": []
   },
   "source": [
    "## Data Analisys \n",
    "* Average of population and area"
   ]
  },
  {
   "cell_type": "code",
   "execution_count": 10,
   "id": "cf57b812",
   "metadata": {
    "collapsed": false,
    "execution": {
     "iopub.execute_input": "2022-06-20T19:51:28.928518Z",
     "iopub.status.busy": "2022-06-20T19:51:28.928102Z",
     "iopub.status.idle": "2022-06-20T19:51:28.937992Z",
     "shell.execute_reply": "2022-06-20T19:51:28.937149Z"
    },
    "jupyter": {
     "outputs_hidden": false
    },
    "papermill": {
     "duration": 0.024253,
     "end_time": "2022-06-20T19:51:28.939924",
     "exception": false,
     "start_time": "2022-06-20T19:51:28.915671",
     "status": "completed"
    },
    "tags": []
   },
   "outputs": [
    {
     "name": "stdout",
     "output_type": "stream",
     "text": [
      " * sqlite:////kaggle/input/cia-factbook-data/factbook.db\n",
      "Done.\n"
     ]
    },
    {
     "data": {
      "text/html": [
       "<table>\n",
       "    <thead>\n",
       "        <tr>\n",
       "            <th>AVG(population)</th>\n",
       "            <th> </th>\n",
       "        </tr>\n",
       "    </thead>\n",
       "    <tbody>\n",
       "        <tr>\n",
       "            <td>62094928.32231405</td>\n",
       "            <td>555093.546184739</td>\n",
       "        </tr>\n",
       "    </tbody>\n",
       "</table>"
      ],
      "text/plain": [
       "[(62094928.32231405, 555093.546184739)]"
      ]
     },
     "execution_count": 10,
     "metadata": {},
     "output_type": "execute_result"
    }
   ],
   "source": [
    "%%sql\n",
    "SELECT AVG(population),\n",
    "       AVG(area)  \n",
    "FROM facts"
   ]
  },
  {
   "cell_type": "markdown",
   "id": "378a8a9d",
   "metadata": {
    "papermill": {
     "duration": 0.01126,
     "end_time": "2022-06-20T19:51:28.962864",
     "exception": false,
     "start_time": "2022-06-20T19:51:28.951604",
     "status": "completed"
    },
    "tags": []
   },
   "source": [
    "* Which countries population and are are bigger than average?"
   ]
  },
  {
   "cell_type": "code",
   "execution_count": 11,
   "id": "4949ee65",
   "metadata": {
    "collapsed": false,
    "execution": {
     "iopub.execute_input": "2022-06-20T19:51:28.987312Z",
     "iopub.status.busy": "2022-06-20T19:51:28.986907Z",
     "iopub.status.idle": "2022-06-20T19:51:28.999485Z",
     "shell.execute_reply": "2022-06-20T19:51:28.998352Z"
    },
    "jupyter": {
     "outputs_hidden": false
    },
    "papermill": {
     "duration": 0.027128,
     "end_time": "2022-06-20T19:51:29.001591",
     "exception": false,
     "start_time": "2022-06-20T19:51:28.974463",
     "status": "completed"
    },
    "tags": []
   },
   "outputs": [
    {
     "name": "stdout",
     "output_type": "stream",
     "text": [
      " * sqlite:////kaggle/input/cia-factbook-data/factbook.db\n",
      "Done.\n"
     ]
    },
    {
     "data": {
      "text/html": [
       "<table>\n",
       "    <thead>\n",
       "        <tr>\n",
       "            <th>id</th>\n",
       "            <th>code</th>\n",
       "            <th>name</th>\n",
       "            <th>area</th>\n",
       "            <th>area_land</th>\n",
       "            <th>area_water</th>\n",
       "            <th>population</th>\n",
       "            <th>population_growth</th>\n",
       "            <th>birth_rate</th>\n",
       "            <th>death_rate</th>\n",
       "            <th>migration_rate</th>\n",
       "        </tr>\n",
       "    </thead>\n",
       "    <tbody>\n",
       "        <tr>\n",
       "            <td>24</td>\n",
       "            <td>br</td>\n",
       "            <td>Brazil</td>\n",
       "            <td>8515770</td>\n",
       "            <td>8358140</td>\n",
       "            <td>157630</td>\n",
       "            <td>204259812</td>\n",
       "            <td>0.77</td>\n",
       "            <td>14.46</td>\n",
       "            <td>6.58</td>\n",
       "            <td>0.14</td>\n",
       "        </tr>\n",
       "        <tr>\n",
       "            <td>37</td>\n",
       "            <td>ch</td>\n",
       "            <td>China</td>\n",
       "            <td>9596960</td>\n",
       "            <td>9326410</td>\n",
       "            <td>270550</td>\n",
       "            <td>1367485388</td>\n",
       "            <td>0.45</td>\n",
       "            <td>12.49</td>\n",
       "            <td>7.53</td>\n",
       "            <td>0.44</td>\n",
       "        </tr>\n",
       "        <tr>\n",
       "            <td>40</td>\n",
       "            <td>cg</td>\n",
       "            <td>Congo, Democratic Republic of the</td>\n",
       "            <td>2344858</td>\n",
       "            <td>2267048</td>\n",
       "            <td>77810</td>\n",
       "            <td>79375136</td>\n",
       "            <td>2.45</td>\n",
       "            <td>34.88</td>\n",
       "            <td>10.07</td>\n",
       "            <td>0.27</td>\n",
       "        </tr>\n",
       "        <tr>\n",
       "            <td>53</td>\n",
       "            <td>eg</td>\n",
       "            <td>Egypt</td>\n",
       "            <td>1001450</td>\n",
       "            <td>995450</td>\n",
       "            <td>6000</td>\n",
       "            <td>88487396</td>\n",
       "            <td>1.79</td>\n",
       "            <td>22.9</td>\n",
       "            <td>4.77</td>\n",
       "            <td>0.19</td>\n",
       "        </tr>\n",
       "        <tr>\n",
       "            <td>58</td>\n",
       "            <td>et</td>\n",
       "            <td>Ethiopia</td>\n",
       "            <td>1104300</td>\n",
       "            <td>None</td>\n",
       "            <td>104300</td>\n",
       "            <td>99465819</td>\n",
       "            <td>2.89</td>\n",
       "            <td>37.27</td>\n",
       "            <td>8.19</td>\n",
       "            <td>0.22</td>\n",
       "        </tr>\n",
       "        <tr>\n",
       "            <td>61</td>\n",
       "            <td>fr</td>\n",
       "            <td>France</td>\n",
       "            <td>643801</td>\n",
       "            <td>640427</td>\n",
       "            <td>3374</td>\n",
       "            <td>66553766</td>\n",
       "            <td>0.43</td>\n",
       "            <td>12.38</td>\n",
       "            <td>9.16</td>\n",
       "            <td>1.09</td>\n",
       "        </tr>\n",
       "        <tr>\n",
       "            <td>77</td>\n",
       "            <td>in</td>\n",
       "            <td>India</td>\n",
       "            <td>3287263</td>\n",
       "            <td>2973193</td>\n",
       "            <td>314070</td>\n",
       "            <td>1251695584</td>\n",
       "            <td>1.22</td>\n",
       "            <td>19.55</td>\n",
       "            <td>7.32</td>\n",
       "            <td>0.04</td>\n",
       "        </tr>\n",
       "        <tr>\n",
       "            <td>78</td>\n",
       "            <td>id</td>\n",
       "            <td>Indonesia</td>\n",
       "            <td>1904569</td>\n",
       "            <td>1811569</td>\n",
       "            <td>93000</td>\n",
       "            <td>255993674</td>\n",
       "            <td>0.92</td>\n",
       "            <td>16.72</td>\n",
       "            <td>6.37</td>\n",
       "            <td>1.16</td>\n",
       "        </tr>\n",
       "        <tr>\n",
       "            <td>79</td>\n",
       "            <td>ir</td>\n",
       "            <td>Iran</td>\n",
       "            <td>1648195</td>\n",
       "            <td>1531595</td>\n",
       "            <td>116600</td>\n",
       "            <td>81824270</td>\n",
       "            <td>1.2</td>\n",
       "            <td>17.99</td>\n",
       "            <td>5.94</td>\n",
       "            <td>0.07</td>\n",
       "        </tr>\n",
       "        <tr>\n",
       "            <td>114</td>\n",
       "            <td>mx</td>\n",
       "            <td>Mexico</td>\n",
       "            <td>1964375</td>\n",
       "            <td>1943945</td>\n",
       "            <td>20430</td>\n",
       "            <td>121736809</td>\n",
       "            <td>1.18</td>\n",
       "            <td>18.78</td>\n",
       "            <td>5.26</td>\n",
       "            <td>1.68</td>\n",
       "        </tr>\n",
       "        <tr>\n",
       "            <td>129</td>\n",
       "            <td>ni</td>\n",
       "            <td>Nigeria</td>\n",
       "            <td>923768</td>\n",
       "            <td>910768</td>\n",
       "            <td>13000</td>\n",
       "            <td>181562056</td>\n",
       "            <td>2.45</td>\n",
       "            <td>37.64</td>\n",
       "            <td>12.9</td>\n",
       "            <td>0.22</td>\n",
       "        </tr>\n",
       "        <tr>\n",
       "            <td>132</td>\n",
       "            <td>pk</td>\n",
       "            <td>Pakistan</td>\n",
       "            <td>796095</td>\n",
       "            <td>770875</td>\n",
       "            <td>25220</td>\n",
       "            <td>199085847</td>\n",
       "            <td>1.46</td>\n",
       "            <td>22.58</td>\n",
       "            <td>6.49</td>\n",
       "            <td>1.54</td>\n",
       "        </tr>\n",
       "        <tr>\n",
       "            <td>143</td>\n",
       "            <td>rs</td>\n",
       "            <td>Russia</td>\n",
       "            <td>17098242</td>\n",
       "            <td>16377742</td>\n",
       "            <td>720500</td>\n",
       "            <td>142423773</td>\n",
       "            <td>0.04</td>\n",
       "            <td>11.6</td>\n",
       "            <td>13.69</td>\n",
       "            <td>1.69</td>\n",
       "        </tr>\n",
       "        <tr>\n",
       "            <td>179</td>\n",
       "            <td>tu</td>\n",
       "            <td>Turkey</td>\n",
       "            <td>783562</td>\n",
       "            <td>769632</td>\n",
       "            <td>13930</td>\n",
       "            <td>79414269</td>\n",
       "            <td>1.26</td>\n",
       "            <td>16.33</td>\n",
       "            <td>5.88</td>\n",
       "            <td>2.16</td>\n",
       "        </tr>\n",
       "        <tr>\n",
       "            <td>186</td>\n",
       "            <td>us</td>\n",
       "            <td>United States</td>\n",
       "            <td>9826675</td>\n",
       "            <td>9161966</td>\n",
       "            <td>664709</td>\n",
       "            <td>321368864</td>\n",
       "            <td>0.78</td>\n",
       "            <td>12.49</td>\n",
       "            <td>8.15</td>\n",
       "            <td>3.86</td>\n",
       "        </tr>\n",
       "        <tr>\n",
       "            <td>197</td>\n",
       "            <td>ee</td>\n",
       "            <td>European Union</td>\n",
       "            <td>4324782</td>\n",
       "            <td>None</td>\n",
       "            <td>None</td>\n",
       "            <td>513949445</td>\n",
       "            <td>0.25</td>\n",
       "            <td>10.2</td>\n",
       "            <td>10.2</td>\n",
       "            <td>2.5</td>\n",
       "        </tr>\n",
       "    </tbody>\n",
       "</table>"
      ],
      "text/plain": [
       "[(24, 'br', 'Brazil', 8515770, 8358140, 157630, 204259812, 0.77, 14.46, 6.58, 0.14),\n",
       " (37, 'ch', 'China', 9596960, 9326410, 270550, 1367485388, 0.45, 12.49, 7.53, 0.44),\n",
       " (40, 'cg', 'Congo, Democratic Republic of the', 2344858, 2267048, 77810, 79375136, 2.45, 34.88, 10.07, 0.27),\n",
       " (53, 'eg', 'Egypt', 1001450, 995450, 6000, 88487396, 1.79, 22.9, 4.77, 0.19),\n",
       " (58, 'et', 'Ethiopia', 1104300, None, 104300, 99465819, 2.89, 37.27, 8.19, 0.22),\n",
       " (61, 'fr', 'France', 643801, 640427, 3374, 66553766, 0.43, 12.38, 9.16, 1.09),\n",
       " (77, 'in', 'India', 3287263, 2973193, 314070, 1251695584, 1.22, 19.55, 7.32, 0.04),\n",
       " (78, 'id', 'Indonesia', 1904569, 1811569, 93000, 255993674, 0.92, 16.72, 6.37, 1.16),\n",
       " (79, 'ir', 'Iran', 1648195, 1531595, 116600, 81824270, 1.2, 17.99, 5.94, 0.07),\n",
       " (114, 'mx', 'Mexico', 1964375, 1943945, 20430, 121736809, 1.18, 18.78, 5.26, 1.68),\n",
       " (129, 'ni', 'Nigeria', 923768, 910768, 13000, 181562056, 2.45, 37.64, 12.9, 0.22),\n",
       " (132, 'pk', 'Pakistan', 796095, 770875, 25220, 199085847, 1.46, 22.58, 6.49, 1.54),\n",
       " (143, 'rs', 'Russia', 17098242, 16377742, 720500, 142423773, 0.04, 11.6, 13.69, 1.69),\n",
       " (179, 'tu', 'Turkey', 783562, 769632, 13930, 79414269, 1.26, 16.33, 5.88, 2.16),\n",
       " (186, 'us', 'United States', 9826675, 9161966, 664709, 321368864, 0.78, 12.49, 8.15, 3.86),\n",
       " (197, 'ee', 'European Union', 4324782, None, None, 513949445, 0.25, 10.2, 10.2, 2.5)]"
      ]
     },
     "execution_count": 11,
     "metadata": {},
     "output_type": "execute_result"
    }
   ],
   "source": [
    "%%sql \n",
    "SELECT * FROM facts\n",
    "WHERE population > (SELECT AVG(population) FROM facts) \n",
    "AND area > (SELECT AVG(area) FROM facts)\n"
   ]
  },
  {
   "cell_type": "markdown",
   "id": "568a4e28",
   "metadata": {
    "papermill": {
     "duration": 0.014508,
     "end_time": "2022-06-20T19:51:29.028670",
     "exception": false,
     "start_time": "2022-06-20T19:51:29.014162",
     "status": "completed"
    },
    "tags": []
   },
   "source": [
    "* Which countries have the highest ratios of water to land? "
   ]
  },
  {
   "cell_type": "code",
   "execution_count": 12,
   "id": "caca02c3",
   "metadata": {
    "collapsed": false,
    "execution": {
     "iopub.execute_input": "2022-06-20T19:51:29.064029Z",
     "iopub.status.busy": "2022-06-20T19:51:29.062816Z",
     "iopub.status.idle": "2022-06-20T19:51:29.079880Z",
     "shell.execute_reply": "2022-06-20T19:51:29.079158Z"
    },
    "jupyter": {
     "outputs_hidden": false
    },
    "papermill": {
     "duration": 0.038114,
     "end_time": "2022-06-20T19:51:29.082065",
     "exception": false,
     "start_time": "2022-06-20T19:51:29.043951",
     "status": "completed"
    },
    "tags": []
   },
   "outputs": [
    {
     "name": "stdout",
     "output_type": "stream",
     "text": [
      " * sqlite:////kaggle/input/cia-factbook-data/factbook.db\n",
      "Done.\n"
     ]
    },
    {
     "data": {
      "text/html": [
       "<table>\n",
       "    <thead>\n",
       "        <tr>\n",
       "            <th>id</th>\n",
       "            <th>code</th>\n",
       "            <th>name</th>\n",
       "            <th>area</th>\n",
       "            <th>area_land</th>\n",
       "            <th>area_water</th>\n",
       "            <th>population</th>\n",
       "            <th>population_growth</th>\n",
       "            <th>birth_rate</th>\n",
       "            <th>death_rate</th>\n",
       "            <th>migration_rate</th>\n",
       "        </tr>\n",
       "    </thead>\n",
       "    <tbody>\n",
       "        <tr>\n",
       "            <td>32</td>\n",
       "            <td>ca</td>\n",
       "            <td>Canada</td>\n",
       "            <td>9984670</td>\n",
       "            <td>9093507</td>\n",
       "            <td>891163</td>\n",
       "            <td>35099836</td>\n",
       "            <td>0.75</td>\n",
       "            <td>10.28</td>\n",
       "            <td>8.42</td>\n",
       "            <td>5.66</td>\n",
       "        </tr>\n",
       "        <tr>\n",
       "            <td>143</td>\n",
       "            <td>rs</td>\n",
       "            <td>Russia</td>\n",
       "            <td>17098242</td>\n",
       "            <td>16377742</td>\n",
       "            <td>720500</td>\n",
       "            <td>142423773</td>\n",
       "            <td>0.04</td>\n",
       "            <td>11.6</td>\n",
       "            <td>13.69</td>\n",
       "            <td>1.69</td>\n",
       "        </tr>\n",
       "        <tr>\n",
       "            <td>186</td>\n",
       "            <td>us</td>\n",
       "            <td>United States</td>\n",
       "            <td>9826675</td>\n",
       "            <td>9161966</td>\n",
       "            <td>664709</td>\n",
       "            <td>321368864</td>\n",
       "            <td>0.78</td>\n",
       "            <td>12.49</td>\n",
       "            <td>8.15</td>\n",
       "            <td>3.86</td>\n",
       "        </tr>\n",
       "        <tr>\n",
       "            <td>77</td>\n",
       "            <td>in</td>\n",
       "            <td>India</td>\n",
       "            <td>3287263</td>\n",
       "            <td>2973193</td>\n",
       "            <td>314070</td>\n",
       "            <td>1251695584</td>\n",
       "            <td>1.22</td>\n",
       "            <td>19.55</td>\n",
       "            <td>7.32</td>\n",
       "            <td>0.04</td>\n",
       "        </tr>\n",
       "        <tr>\n",
       "            <td>37</td>\n",
       "            <td>ch</td>\n",
       "            <td>China</td>\n",
       "            <td>9596960</td>\n",
       "            <td>9326410</td>\n",
       "            <td>270550</td>\n",
       "            <td>1367485388</td>\n",
       "            <td>0.45</td>\n",
       "            <td>12.49</td>\n",
       "            <td>7.53</td>\n",
       "            <td>0.44</td>\n",
       "        </tr>\n",
       "        <tr>\n",
       "            <td>24</td>\n",
       "            <td>br</td>\n",
       "            <td>Brazil</td>\n",
       "            <td>8515770</td>\n",
       "            <td>8358140</td>\n",
       "            <td>157630</td>\n",
       "            <td>204259812</td>\n",
       "            <td>0.77</td>\n",
       "            <td>14.46</td>\n",
       "            <td>6.58</td>\n",
       "            <td>0.14</td>\n",
       "        </tr>\n",
       "        <tr>\n",
       "            <td>79</td>\n",
       "            <td>ir</td>\n",
       "            <td>Iran</td>\n",
       "            <td>1648195</td>\n",
       "            <td>1531595</td>\n",
       "            <td>116600</td>\n",
       "            <td>81824270</td>\n",
       "            <td>1.2</td>\n",
       "            <td>17.99</td>\n",
       "            <td>5.94</td>\n",
       "            <td>0.07</td>\n",
       "        </tr>\n",
       "        <tr>\n",
       "            <td>58</td>\n",
       "            <td>et</td>\n",
       "            <td>Ethiopia</td>\n",
       "            <td>1104300</td>\n",
       "            <td>None</td>\n",
       "            <td>104300</td>\n",
       "            <td>99465819</td>\n",
       "            <td>2.89</td>\n",
       "            <td>37.27</td>\n",
       "            <td>8.19</td>\n",
       "            <td>0.22</td>\n",
       "        </tr>\n",
       "        <tr>\n",
       "            <td>38</td>\n",
       "            <td>co</td>\n",
       "            <td>Colombia</td>\n",
       "            <td>1138910</td>\n",
       "            <td>1038700</td>\n",
       "            <td>100210</td>\n",
       "            <td>46736728</td>\n",
       "            <td>1.04</td>\n",
       "            <td>16.47</td>\n",
       "            <td>5.4</td>\n",
       "            <td>0.64</td>\n",
       "        </tr>\n",
       "        <tr>\n",
       "            <td>78</td>\n",
       "            <td>id</td>\n",
       "            <td>Indonesia</td>\n",
       "            <td>1904569</td>\n",
       "            <td>1811569</td>\n",
       "            <td>93000</td>\n",
       "            <td>255993674</td>\n",
       "            <td>0.92</td>\n",
       "            <td>16.72</td>\n",
       "            <td>6.37</td>\n",
       "            <td>1.16</td>\n",
       "        </tr>\n",
       "        <tr>\n",
       "            <td>40</td>\n",
       "            <td>cg</td>\n",
       "            <td>Congo, Democratic Republic of the</td>\n",
       "            <td>2344858</td>\n",
       "            <td>2267048</td>\n",
       "            <td>77810</td>\n",
       "            <td>79375136</td>\n",
       "            <td>2.45</td>\n",
       "            <td>34.88</td>\n",
       "            <td>10.07</td>\n",
       "            <td>0.27</td>\n",
       "        </tr>\n",
       "        <tr>\n",
       "            <td>172</td>\n",
       "            <td>tz</td>\n",
       "            <td>Tanzania</td>\n",
       "            <td>947300</td>\n",
       "            <td>885800</td>\n",
       "            <td>61500</td>\n",
       "            <td>51045882</td>\n",
       "            <td>2.79</td>\n",
       "            <td>36.39</td>\n",
       "            <td>8.0</td>\n",
       "            <td>0.54</td>\n",
       "        </tr>\n",
       "        <tr>\n",
       "            <td>9</td>\n",
       "            <td>as</td>\n",
       "            <td>Australia</td>\n",
       "            <td>7741220</td>\n",
       "            <td>7682300</td>\n",
       "            <td>58920</td>\n",
       "            <td>22751014</td>\n",
       "            <td>1.07</td>\n",
       "            <td>12.15</td>\n",
       "            <td>7.14</td>\n",
       "            <td>5.65</td>\n",
       "        </tr>\n",
       "        <tr>\n",
       "            <td>228</td>\n",
       "            <td>io</td>\n",
       "            <td>British Indian Ocean Territory</td>\n",
       "            <td>54400</td>\n",
       "            <td>60</td>\n",
       "            <td>54340</td>\n",
       "            <td>None</td>\n",
       "            <td>None</td>\n",
       "            <td>None</td>\n",
       "            <td>None</td>\n",
       "            <td>None</td>\n",
       "        </tr>\n",
       "        <tr>\n",
       "            <td>182</td>\n",
       "            <td>ug</td>\n",
       "            <td>Uganda</td>\n",
       "            <td>241038</td>\n",
       "            <td>197100</td>\n",
       "            <td>43938</td>\n",
       "            <td>37101745</td>\n",
       "            <td>3.24</td>\n",
       "            <td>43.79</td>\n",
       "            <td>10.69</td>\n",
       "            <td>0.74</td>\n",
       "        </tr>\n",
       "        <tr>\n",
       "            <td>7</td>\n",
       "            <td>ar</td>\n",
       "            <td>Argentina</td>\n",
       "            <td>2780400</td>\n",
       "            <td>2736690</td>\n",
       "            <td>43710</td>\n",
       "            <td>43431886</td>\n",
       "            <td>0.93</td>\n",
       "            <td>16.64</td>\n",
       "            <td>7.33</td>\n",
       "            <td>0.0</td>\n",
       "        </tr>\n",
       "        <tr>\n",
       "            <td>168</td>\n",
       "            <td>sw</td>\n",
       "            <td>Sweden</td>\n",
       "            <td>450295</td>\n",
       "            <td>410335</td>\n",
       "            <td>39960</td>\n",
       "            <td>9801616</td>\n",
       "            <td>0.8</td>\n",
       "            <td>11.99</td>\n",
       "            <td>9.4</td>\n",
       "            <td>5.42</td>\n",
       "        </tr>\n",
       "        <tr>\n",
       "            <td>60</td>\n",
       "            <td>fi</td>\n",
       "            <td>Finland</td>\n",
       "            <td>338145</td>\n",
       "            <td>303815</td>\n",
       "            <td>34330</td>\n",
       "            <td>5476922</td>\n",
       "            <td>0.4</td>\n",
       "            <td>10.72</td>\n",
       "            <td>9.83</td>\n",
       "            <td>3.1</td>\n",
       "        </tr>\n",
       "        <tr>\n",
       "            <td>191</td>\n",
       "            <td>ve</td>\n",
       "            <td>Venezuela</td>\n",
       "            <td>912050</td>\n",
       "            <td>882050</td>\n",
       "            <td>30000</td>\n",
       "            <td>29275460</td>\n",
       "            <td>1.39</td>\n",
       "            <td>19.16</td>\n",
       "            <td>5.31</td>\n",
       "            <td>0.0</td>\n",
       "        </tr>\n",
       "        <tr>\n",
       "            <td>132</td>\n",
       "            <td>pk</td>\n",
       "            <td>Pakistan</td>\n",
       "            <td>796095</td>\n",
       "            <td>770875</td>\n",
       "            <td>25220</td>\n",
       "            <td>199085847</td>\n",
       "            <td>1.46</td>\n",
       "            <td>22.58</td>\n",
       "            <td>6.49</td>\n",
       "            <td>1.54</td>\n",
       "        </tr>\n",
       "    </tbody>\n",
       "</table>"
      ],
      "text/plain": [
       "[(32, 'ca', 'Canada', 9984670, 9093507, 891163, 35099836, 0.75, 10.28, 8.42, 5.66),\n",
       " (143, 'rs', 'Russia', 17098242, 16377742, 720500, 142423773, 0.04, 11.6, 13.69, 1.69),\n",
       " (186, 'us', 'United States', 9826675, 9161966, 664709, 321368864, 0.78, 12.49, 8.15, 3.86),\n",
       " (77, 'in', 'India', 3287263, 2973193, 314070, 1251695584, 1.22, 19.55, 7.32, 0.04),\n",
       " (37, 'ch', 'China', 9596960, 9326410, 270550, 1367485388, 0.45, 12.49, 7.53, 0.44),\n",
       " (24, 'br', 'Brazil', 8515770, 8358140, 157630, 204259812, 0.77, 14.46, 6.58, 0.14),\n",
       " (79, 'ir', 'Iran', 1648195, 1531595, 116600, 81824270, 1.2, 17.99, 5.94, 0.07),\n",
       " (58, 'et', 'Ethiopia', 1104300, None, 104300, 99465819, 2.89, 37.27, 8.19, 0.22),\n",
       " (38, 'co', 'Colombia', 1138910, 1038700, 100210, 46736728, 1.04, 16.47, 5.4, 0.64),\n",
       " (78, 'id', 'Indonesia', 1904569, 1811569, 93000, 255993674, 0.92, 16.72, 6.37, 1.16),\n",
       " (40, 'cg', 'Congo, Democratic Republic of the', 2344858, 2267048, 77810, 79375136, 2.45, 34.88, 10.07, 0.27),\n",
       " (172, 'tz', 'Tanzania', 947300, 885800, 61500, 51045882, 2.79, 36.39, 8.0, 0.54),\n",
       " (9, 'as', 'Australia', 7741220, 7682300, 58920, 22751014, 1.07, 12.15, 7.14, 5.65),\n",
       " (228, 'io', 'British Indian Ocean Territory', 54400, 60, 54340, None, None, None, None, None),\n",
       " (182, 'ug', 'Uganda', 241038, 197100, 43938, 37101745, 3.24, 43.79, 10.69, 0.74),\n",
       " (7, 'ar', 'Argentina', 2780400, 2736690, 43710, 43431886, 0.93, 16.64, 7.33, 0.0),\n",
       " (168, 'sw', 'Sweden', 450295, 410335, 39960, 9801616, 0.8, 11.99, 9.4, 5.42),\n",
       " (60, 'fi', 'Finland', 338145, 303815, 34330, 5476922, 0.4, 10.72, 9.83, 3.1),\n",
       " (191, 've', 'Venezuela', 912050, 882050, 30000, 29275460, 1.39, 19.16, 5.31, 0.0),\n",
       " (132, 'pk', 'Pakistan', 796095, 770875, 25220, 199085847, 1.46, 22.58, 6.49, 1.54)]"
      ]
     },
     "execution_count": 12,
     "metadata": {},
     "output_type": "execute_result"
    }
   ],
   "source": [
    "%%sql\n",
    "SELECT * FROM facts\n",
    "WHERE area_water > (SELECT AVG(area_water) FROM facts)\n",
    "ORDER BY area_water DESC\n",
    "LIMIT 20"
   ]
  },
  {
   "cell_type": "markdown",
   "id": "5e7dccf7",
   "metadata": {
    "papermill": {
     "duration": 0.012996,
     "end_time": "2022-06-20T19:51:29.110968",
     "exception": false,
     "start_time": "2022-06-20T19:51:29.097972",
     "status": "completed"
    },
    "tags": []
   },
   "source": [
    "* Which countries have more water than land?"
   ]
  },
  {
   "cell_type": "code",
   "execution_count": 13,
   "id": "a1fcce77",
   "metadata": {
    "collapsed": false,
    "execution": {
     "iopub.execute_input": "2022-06-20T19:51:29.137435Z",
     "iopub.status.busy": "2022-06-20T19:51:29.136915Z",
     "iopub.status.idle": "2022-06-20T19:51:29.147409Z",
     "shell.execute_reply": "2022-06-20T19:51:29.146242Z"
    },
    "jupyter": {
     "outputs_hidden": false
    },
    "papermill": {
     "duration": 0.026268,
     "end_time": "2022-06-20T19:51:29.149661",
     "exception": false,
     "start_time": "2022-06-20T19:51:29.123393",
     "status": "completed"
    },
    "tags": []
   },
   "outputs": [
    {
     "name": "stdout",
     "output_type": "stream",
     "text": [
      " * sqlite:////kaggle/input/cia-factbook-data/factbook.db\n",
      "Done.\n"
     ]
    },
    {
     "data": {
      "text/html": [
       "<table>\n",
       "    <thead>\n",
       "        <tr>\n",
       "            <th>id</th>\n",
       "            <th>code</th>\n",
       "            <th>name</th>\n",
       "            <th>area</th>\n",
       "            <th>area_land</th>\n",
       "            <th>area_water</th>\n",
       "            <th>population</th>\n",
       "            <th>population_growth</th>\n",
       "            <th>birth_rate</th>\n",
       "            <th>death_rate</th>\n",
       "            <th>migration_rate</th>\n",
       "        </tr>\n",
       "    </thead>\n",
       "    <tbody>\n",
       "        <tr>\n",
       "            <td>228</td>\n",
       "            <td>io</td>\n",
       "            <td>British Indian Ocean Territory</td>\n",
       "            <td>54400</td>\n",
       "            <td>60</td>\n",
       "            <td>54340</td>\n",
       "            <td>None</td>\n",
       "            <td>None</td>\n",
       "            <td>None</td>\n",
       "            <td>None</td>\n",
       "            <td>None</td>\n",
       "        </tr>\n",
       "        <tr>\n",
       "            <td>247</td>\n",
       "            <td>vq</td>\n",
       "            <td>Virgin Islands</td>\n",
       "            <td>1910</td>\n",
       "            <td>346</td>\n",
       "            <td>1564</td>\n",
       "            <td>103574</td>\n",
       "            <td>0.59</td>\n",
       "            <td>10.31</td>\n",
       "            <td>8.54</td>\n",
       "            <td>7.67</td>\n",
       "        </tr>\n",
       "    </tbody>\n",
       "</table>"
      ],
      "text/plain": [
       "[(228, 'io', 'British Indian Ocean Territory', 54400, 60, 54340, None, None, None, None, None),\n",
       " (247, 'vq', 'Virgin Islands', 1910, 346, 1564, 103574, 0.59, 10.31, 8.54, 7.67)]"
      ]
     },
     "execution_count": 13,
     "metadata": {},
     "output_type": "execute_result"
    }
   ],
   "source": [
    "%%sql\n",
    "SELECT * FROM facts\n",
    "WHERE area_water > area_land"
   ]
  },
  {
   "cell_type": "markdown",
   "id": "ebebe497",
   "metadata": {
    "papermill": {
     "duration": 0.012472,
     "end_time": "2022-06-20T19:51:29.174902",
     "exception": false,
     "start_time": "2022-06-20T19:51:29.162430",
     "status": "completed"
    },
    "tags": []
   },
   "source": [
    "* Which countries will add the most people to their population next year?\n"
   ]
  },
  {
   "cell_type": "code",
   "execution_count": 14,
   "id": "a3a4fd9c",
   "metadata": {
    "collapsed": false,
    "execution": {
     "iopub.execute_input": "2022-06-20T19:51:29.201843Z",
     "iopub.status.busy": "2022-06-20T19:51:29.201476Z",
     "iopub.status.idle": "2022-06-20T19:51:29.212987Z",
     "shell.execute_reply": "2022-06-20T19:51:29.211900Z"
    },
    "jupyter": {
     "outputs_hidden": false
    },
    "papermill": {
     "duration": 0.027465,
     "end_time": "2022-06-20T19:51:29.215003",
     "exception": false,
     "start_time": "2022-06-20T19:51:29.187538",
     "status": "completed"
    },
    "tags": []
   },
   "outputs": [
    {
     "name": "stdout",
     "output_type": "stream",
     "text": [
      " * sqlite:////kaggle/input/cia-factbook-data/factbook.db\n",
      "Done.\n"
     ]
    },
    {
     "data": {
      "text/html": [
       "<table>\n",
       "    <thead>\n",
       "        <tr>\n",
       "            <th>name</th>\n",
       "            <th>absolute_growth</th>\n",
       "        </tr>\n",
       "    </thead>\n",
       "    <tbody>\n",
       "        <tr>\n",
       "            <td>India</td>\n",
       "            <td>15270685</td>\n",
       "        </tr>\n",
       "        <tr>\n",
       "            <td>China</td>\n",
       "            <td>6153683</td>\n",
       "        </tr>\n",
       "        <tr>\n",
       "            <td>Nigeria</td>\n",
       "            <td>4448269</td>\n",
       "        </tr>\n",
       "        <tr>\n",
       "            <td>Pakistan</td>\n",
       "            <td>2906652</td>\n",
       "        </tr>\n",
       "        <tr>\n",
       "            <td>Ethiopia</td>\n",
       "            <td>2874561</td>\n",
       "        </tr>\n",
       "        <tr>\n",
       "            <td>Bangladesh</td>\n",
       "            <td>2703323</td>\n",
       "        </tr>\n",
       "        <tr>\n",
       "            <td>United States</td>\n",
       "            <td>2506676</td>\n",
       "        </tr>\n",
       "        <tr>\n",
       "            <td>Indonesia</td>\n",
       "            <td>2355141</td>\n",
       "        </tr>\n",
       "        <tr>\n",
       "            <td>Congo, Democratic Republic of the</td>\n",
       "            <td>1944689</td>\n",
       "        </tr>\n",
       "        <tr>\n",
       "            <td>Philippines</td>\n",
       "            <td>1626072</td>\n",
       "        </tr>\n",
       "    </tbody>\n",
       "</table>"
      ],
      "text/plain": [
       "[('India', 15270685),\n",
       " ('China', 6153683),\n",
       " ('Nigeria', 4448269),\n",
       " ('Pakistan', 2906652),\n",
       " ('Ethiopia', 2874561),\n",
       " ('Bangladesh', 2703323),\n",
       " ('United States', 2506676),\n",
       " ('Indonesia', 2355141),\n",
       " ('Congo, Democratic Republic of the', 1944689),\n",
       " ('Philippines', 1626072)]"
      ]
     },
     "execution_count": 14,
     "metadata": {},
     "output_type": "execute_result"
    }
   ],
   "source": [
    "%%sql\n",
    "SELECT   name, \n",
    "         CAST(population/100 * population_growth AS int) AS absolute_growth \n",
    "FROM     facts \n",
    "WHERE    name <> 'World' \n",
    "ORDER BY absolute_growth DESC \n",
    "LIMIT    10"
   ]
  },
  {
   "cell_type": "markdown",
   "id": "fa4bf02f",
   "metadata": {
    "papermill": {
     "duration": 0.01276,
     "end_time": "2022-06-20T19:51:29.241525",
     "exception": false,
     "start_time": "2022-06-20T19:51:29.228765",
     "status": "completed"
    },
    "tags": []
   },
   "source": [
    "* Which countries have a higher death rate than birth rate"
   ]
  },
  {
   "cell_type": "code",
   "execution_count": 15,
   "id": "ef17b27c",
   "metadata": {
    "collapsed": false,
    "execution": {
     "iopub.execute_input": "2022-06-20T19:51:29.269165Z",
     "iopub.status.busy": "2022-06-20T19:51:29.268479Z",
     "iopub.status.idle": "2022-06-20T19:51:29.281849Z",
     "shell.execute_reply": "2022-06-20T19:51:29.280882Z"
    },
    "jupyter": {
     "outputs_hidden": false
    },
    "papermill": {
     "duration": 0.02974,
     "end_time": "2022-06-20T19:51:29.284220",
     "exception": false,
     "start_time": "2022-06-20T19:51:29.254480",
     "status": "completed"
    },
    "tags": []
   },
   "outputs": [
    {
     "name": "stdout",
     "output_type": "stream",
     "text": [
      " * sqlite:////kaggle/input/cia-factbook-data/factbook.db\n",
      "Done.\n"
     ]
    },
    {
     "data": {
      "text/html": [
       "<table>\n",
       "    <thead>\n",
       "        <tr>\n",
       "            <th>id</th>\n",
       "            <th>code</th>\n",
       "            <th>name</th>\n",
       "            <th>area</th>\n",
       "            <th>area_land</th>\n",
       "            <th>area_water</th>\n",
       "            <th>population</th>\n",
       "            <th>population_growth</th>\n",
       "            <th>birth_rate</th>\n",
       "            <th>death_rate</th>\n",
       "            <th>migration_rate</th>\n",
       "        </tr>\n",
       "    </thead>\n",
       "    <tbody>\n",
       "        <tr>\n",
       "            <td>183</td>\n",
       "            <td>up</td>\n",
       "            <td>Ukraine</td>\n",
       "            <td>603550</td>\n",
       "            <td>579330</td>\n",
       "            <td>24220</td>\n",
       "            <td>44429471</td>\n",
       "            <td>0.6</td>\n",
       "            <td>10.72</td>\n",
       "            <td>14.46</td>\n",
       "            <td>2.25</td>\n",
       "        </tr>\n",
       "        <tr>\n",
       "            <td>26</td>\n",
       "            <td>bu</td>\n",
       "            <td>Bulgaria</td>\n",
       "            <td>110879</td>\n",
       "            <td>108489</td>\n",
       "            <td>2390</td>\n",
       "            <td>7186893</td>\n",
       "            <td>0.58</td>\n",
       "            <td>8.92</td>\n",
       "            <td>14.44</td>\n",
       "            <td>0.29</td>\n",
       "        </tr>\n",
       "        <tr>\n",
       "            <td>96</td>\n",
       "            <td>lg</td>\n",
       "            <td>Latvia</td>\n",
       "            <td>64589</td>\n",
       "            <td>62249</td>\n",
       "            <td>2340</td>\n",
       "            <td>1986705</td>\n",
       "            <td>1.06</td>\n",
       "            <td>10.0</td>\n",
       "            <td>14.31</td>\n",
       "            <td>6.26</td>\n",
       "        </tr>\n",
       "        <tr>\n",
       "            <td>102</td>\n",
       "            <td>lh</td>\n",
       "            <td>Lithuania</td>\n",
       "            <td>65300</td>\n",
       "            <td>62680</td>\n",
       "            <td>2620</td>\n",
       "            <td>2884433</td>\n",
       "            <td>1.04</td>\n",
       "            <td>10.1</td>\n",
       "            <td>14.27</td>\n",
       "            <td>6.27</td>\n",
       "        </tr>\n",
       "        <tr>\n",
       "            <td>143</td>\n",
       "            <td>rs</td>\n",
       "            <td>Russia</td>\n",
       "            <td>17098242</td>\n",
       "            <td>16377742</td>\n",
       "            <td>720500</td>\n",
       "            <td>142423773</td>\n",
       "            <td>0.04</td>\n",
       "            <td>11.6</td>\n",
       "            <td>13.69</td>\n",
       "            <td>1.69</td>\n",
       "        </tr>\n",
       "        <tr>\n",
       "            <td>153</td>\n",
       "            <td>ri</td>\n",
       "            <td>Serbia</td>\n",
       "            <td>77474</td>\n",
       "            <td>77474</td>\n",
       "            <td>0</td>\n",
       "            <td>7176794</td>\n",
       "            <td>0.46</td>\n",
       "            <td>9.08</td>\n",
       "            <td>13.66</td>\n",
       "            <td>0.0</td>\n",
       "        </tr>\n",
       "        <tr>\n",
       "            <td>16</td>\n",
       "            <td>bo</td>\n",
       "            <td>Belarus</td>\n",
       "            <td>207600</td>\n",
       "            <td>202900</td>\n",
       "            <td>4700</td>\n",
       "            <td>9589689</td>\n",
       "            <td>0.2</td>\n",
       "            <td>10.7</td>\n",
       "            <td>13.36</td>\n",
       "            <td>0.7</td>\n",
       "        </tr>\n",
       "        <tr>\n",
       "            <td>75</td>\n",
       "            <td>hu</td>\n",
       "            <td>Hungary</td>\n",
       "            <td>93028</td>\n",
       "            <td>89608</td>\n",
       "            <td>3420</td>\n",
       "            <td>9897541</td>\n",
       "            <td>0.22</td>\n",
       "            <td>9.16</td>\n",
       "            <td>12.73</td>\n",
       "            <td>1.33</td>\n",
       "        </tr>\n",
       "        <tr>\n",
       "            <td>116</td>\n",
       "            <td>md</td>\n",
       "            <td>Moldova</td>\n",
       "            <td>33851</td>\n",
       "            <td>32891</td>\n",
       "            <td>960</td>\n",
       "            <td>3546847</td>\n",
       "            <td>1.03</td>\n",
       "            <td>12.0</td>\n",
       "            <td>12.59</td>\n",
       "            <td>9.67</td>\n",
       "        </tr>\n",
       "        <tr>\n",
       "            <td>57</td>\n",
       "            <td>en</td>\n",
       "            <td>Estonia</td>\n",
       "            <td>45228</td>\n",
       "            <td>42388</td>\n",
       "            <td>2840</td>\n",
       "            <td>1265420</td>\n",
       "            <td>0.55</td>\n",
       "            <td>10.51</td>\n",
       "            <td>12.4</td>\n",
       "            <td>3.6</td>\n",
       "        </tr>\n",
       "    </tbody>\n",
       "</table>"
      ],
      "text/plain": [
       "[(183, 'up', 'Ukraine', 603550, 579330, 24220, 44429471, 0.6, 10.72, 14.46, 2.25),\n",
       " (26, 'bu', 'Bulgaria', 110879, 108489, 2390, 7186893, 0.58, 8.92, 14.44, 0.29),\n",
       " (96, 'lg', 'Latvia', 64589, 62249, 2340, 1986705, 1.06, 10.0, 14.31, 6.26),\n",
       " (102, 'lh', 'Lithuania', 65300, 62680, 2620, 2884433, 1.04, 10.1, 14.27, 6.27),\n",
       " (143, 'rs', 'Russia', 17098242, 16377742, 720500, 142423773, 0.04, 11.6, 13.69, 1.69),\n",
       " (153, 'ri', 'Serbia', 77474, 77474, 0, 7176794, 0.46, 9.08, 13.66, 0.0),\n",
       " (16, 'bo', 'Belarus', 207600, 202900, 4700, 9589689, 0.2, 10.7, 13.36, 0.7),\n",
       " (75, 'hu', 'Hungary', 93028, 89608, 3420, 9897541, 0.22, 9.16, 12.73, 1.33),\n",
       " (116, 'md', 'Moldova', 33851, 32891, 960, 3546847, 1.03, 12.0, 12.59, 9.67),\n",
       " (57, 'en', 'Estonia', 45228, 42388, 2840, 1265420, 0.55, 10.51, 12.4, 3.6)]"
      ]
     },
     "execution_count": 15,
     "metadata": {},
     "output_type": "execute_result"
    }
   ],
   "source": [
    "%%sql\n",
    "SELECT * FROM facts \n",
    "WHERE death_rate > birth_rate\n",
    "ORDER BY death_rate DESC\n",
    "LIMIT 10"
   ]
  },
  {
   "cell_type": "markdown",
   "id": "185ea95f",
   "metadata": {
    "papermill": {
     "duration": 0.013365,
     "end_time": "2022-06-20T19:51:29.311201",
     "exception": false,
     "start_time": "2022-06-20T19:51:29.297836",
     "status": "completed"
    },
    "tags": []
   },
   "source": [
    "* What country has the highest growth rate? "
   ]
  },
  {
   "cell_type": "code",
   "execution_count": 16,
   "id": "18806203",
   "metadata": {
    "execution": {
     "iopub.execute_input": "2022-06-20T19:51:29.339833Z",
     "iopub.status.busy": "2022-06-20T19:51:29.339467Z",
     "iopub.status.idle": "2022-06-20T19:51:29.353145Z",
     "shell.execute_reply": "2022-06-20T19:51:29.352128Z"
    },
    "papermill": {
     "duration": 0.031048,
     "end_time": "2022-06-20T19:51:29.355822",
     "exception": false,
     "start_time": "2022-06-20T19:51:29.324774",
     "status": "completed"
    },
    "tags": []
   },
   "outputs": [
    {
     "name": "stdout",
     "output_type": "stream",
     "text": [
      " * sqlite:////kaggle/input/cia-factbook-data/factbook.db\n",
      "Done.\n"
     ]
    },
    {
     "data": {
      "text/html": [
       "<table>\n",
       "    <thead>\n",
       "        <tr>\n",
       "            <th>name</th>\n",
       "            <th>population_growth</th>\n",
       "        </tr>\n",
       "    </thead>\n",
       "    <tbody>\n",
       "        <tr>\n",
       "            <td>South Sudan</td>\n",
       "            <td>4.02</td>\n",
       "        </tr>\n",
       "    </tbody>\n",
       "</table>"
      ],
      "text/plain": [
       "[('South Sudan', 4.02)]"
      ]
     },
     "execution_count": 16,
     "metadata": {},
     "output_type": "execute_result"
    }
   ],
   "source": [
    "%%sql\n",
    "\n",
    "\n",
    "SELECT name, \n",
    "       population_growth \n",
    "FROM   facts \n",
    "WHERE  population_growth = (SELECT Max(population_growth) \n",
    "                            FROM   facts \n",
    "                            WHERE  population != (SELECT Max(population) \n",
    "                                                  FROM   facts)) "
   ]
  },
  {
   "cell_type": "markdown",
   "id": "ddd7243c",
   "metadata": {
    "papermill": {
     "duration": 0.013256,
     "end_time": "2022-06-20T19:51:29.383229",
     "exception": false,
     "start_time": "2022-06-20T19:51:29.369973",
     "status": "completed"
    },
    "tags": []
   },
   "source": [
    "* Population is more than average AND area is less than average"
   ]
  },
  {
   "cell_type": "code",
   "execution_count": 17,
   "id": "29080e96",
   "metadata": {
    "execution": {
     "iopub.execute_input": "2022-06-20T19:51:29.412083Z",
     "iopub.status.busy": "2022-06-20T19:51:29.411711Z",
     "iopub.status.idle": "2022-06-20T19:51:29.426969Z",
     "shell.execute_reply": "2022-06-20T19:51:29.425619Z"
    },
    "papermill": {
     "duration": 0.033317,
     "end_time": "2022-06-20T19:51:29.430196",
     "exception": false,
     "start_time": "2022-06-20T19:51:29.396879",
     "status": "completed"
    },
    "tags": []
   },
   "outputs": [
    {
     "name": "stdout",
     "output_type": "stream",
     "text": [
      " * sqlite:////kaggle/input/cia-factbook-data/factbook.db\n",
      "Done.\n"
     ]
    },
    {
     "data": {
      "text/html": [
       "<table>\n",
       "    <thead>\n",
       "        <tr>\n",
       "            <th>name</th>\n",
       "            <th>population</th>\n",
       "            <th>area</th>\n",
       "        </tr>\n",
       "    </thead>\n",
       "    <tbody>\n",
       "        <tr>\n",
       "            <td>Bangladesh</td>\n",
       "            <td>168957745</td>\n",
       "            <td>148460</td>\n",
       "        </tr>\n",
       "        <tr>\n",
       "            <td>Germany</td>\n",
       "            <td>80854408</td>\n",
       "            <td>357022</td>\n",
       "        </tr>\n",
       "        <tr>\n",
       "            <td>Iraq</td>\n",
       "            <td>37056169</td>\n",
       "            <td>438317</td>\n",
       "        </tr>\n",
       "        <tr>\n",
       "            <td>Italy</td>\n",
       "            <td>61855120</td>\n",
       "            <td>301340</td>\n",
       "        </tr>\n",
       "        <tr>\n",
       "            <td>Japan</td>\n",
       "            <td>126919659</td>\n",
       "            <td>377915</td>\n",
       "        </tr>\n",
       "        <tr>\n",
       "            <td>Kenya</td>\n",
       "            <td>45925301</td>\n",
       "            <td>580367</td>\n",
       "        </tr>\n",
       "        <tr>\n",
       "            <td>Korea, South</td>\n",
       "            <td>49115196</td>\n",
       "            <td>99720</td>\n",
       "        </tr>\n",
       "        <tr>\n",
       "            <td>Morocco</td>\n",
       "            <td>33322699</td>\n",
       "            <td>446550</td>\n",
       "        </tr>\n",
       "        <tr>\n",
       "            <td>Philippines</td>\n",
       "            <td>100998376</td>\n",
       "            <td>300000</td>\n",
       "        </tr>\n",
       "        <tr>\n",
       "            <td>Poland</td>\n",
       "            <td>38562189</td>\n",
       "            <td>312685</td>\n",
       "        </tr>\n",
       "    </tbody>\n",
       "</table>"
      ],
      "text/plain": [
       "[('Bangladesh', 168957745, 148460),\n",
       " ('Germany', 80854408, 357022),\n",
       " ('Iraq', 37056169, 438317),\n",
       " ('Italy', 61855120, 301340),\n",
       " ('Japan', 126919659, 377915),\n",
       " ('Kenya', 45925301, 580367),\n",
       " ('Korea, South', 49115196, 99720),\n",
       " ('Morocco', 33322699, 446550),\n",
       " ('Philippines', 100998376, 300000),\n",
       " ('Poland', 38562189, 312685)]"
      ]
     },
     "execution_count": 17,
     "metadata": {},
     "output_type": "execute_result"
    }
   ],
   "source": [
    "%%sql\n",
    "\n",
    "SELECT name, \n",
    "       population, \n",
    "       area \n",
    "FROM   facts \n",
    "WHERE  population > (SELECT Avg(population) \n",
    "                     FROM   facts \n",
    "                     WHERE  population != (SELECT Max(population) \n",
    "                                           FROM   facts)) \n",
    "       AND area < (SELECT Avg(area) \n",
    "                   FROM   facts \n",
    "                   WHERE  population != (SELECT Max(population) \n",
    "                                         FROM   facts)) \n",
    "LIMIT  10"
   ]
  },
  {
   "cell_type": "markdown",
   "id": "de3e82a4",
   "metadata": {
    "papermill": {
     "duration": 0.014163,
     "end_time": "2022-06-20T19:51:29.459681",
     "exception": false,
     "start_time": "2022-06-20T19:51:29.445518",
     "status": "completed"
    },
    "tags": []
   },
   "source": [
    "* What country has the most people? "
   ]
  },
  {
   "cell_type": "code",
   "execution_count": 18,
   "id": "e9305a48",
   "metadata": {
    "execution": {
     "iopub.execute_input": "2022-06-20T19:51:29.489371Z",
     "iopub.status.busy": "2022-06-20T19:51:29.488938Z",
     "iopub.status.idle": "2022-06-20T19:51:29.501290Z",
     "shell.execute_reply": "2022-06-20T19:51:29.500031Z"
    },
    "papermill": {
     "duration": 0.029775,
     "end_time": "2022-06-20T19:51:29.503370",
     "exception": false,
     "start_time": "2022-06-20T19:51:29.473595",
     "status": "completed"
    },
    "tags": []
   },
   "outputs": [
    {
     "name": "stdout",
     "output_type": "stream",
     "text": [
      " * sqlite:////kaggle/input/cia-factbook-data/factbook.db\n",
      "Done.\n"
     ]
    },
    {
     "data": {
      "text/html": [
       "<table>\n",
       "    <thead>\n",
       "        <tr>\n",
       "            <th>name</th>\n",
       "            <th>population</th>\n",
       "        </tr>\n",
       "    </thead>\n",
       "    <tbody>\n",
       "        <tr>\n",
       "            <td>China</td>\n",
       "            <td>1367485388</td>\n",
       "        </tr>\n",
       "    </tbody>\n",
       "</table>"
      ],
      "text/plain": [
       "[('China', 1367485388)]"
      ]
     },
     "execution_count": 18,
     "metadata": {},
     "output_type": "execute_result"
    }
   ],
   "source": [
    "%%sql\n",
    "\n",
    "\n",
    "SELECT name, \n",
    "       population \n",
    "FROM   facts \n",
    "WHERE  population = (SELECT Max(population) \n",
    "                     FROM   facts \n",
    "                     WHERE  population != (SELECT Max(population) \n",
    "                                           FROM   facts)) "
   ]
  },
  {
   "cell_type": "markdown",
   "id": "e4d50753",
   "metadata": {
    "papermill": {
     "duration": 0.013931,
     "end_time": "2022-06-20T19:51:29.531487",
     "exception": false,
     "start_time": "2022-06-20T19:51:29.517556",
     "status": "completed"
    },
    "tags": []
   },
   "source": [
    "* Finding the Most Populous Capital Cities"
   ]
  },
  {
   "cell_type": "code",
   "execution_count": 19,
   "id": "457ed0b5",
   "metadata": {
    "execution": {
     "iopub.execute_input": "2022-06-20T19:51:29.561042Z",
     "iopub.status.busy": "2022-06-20T19:51:29.560668Z",
     "iopub.status.idle": "2022-06-20T19:51:29.568315Z",
     "shell.execute_reply": "2022-06-20T19:51:29.567220Z"
    },
    "papermill": {
     "duration": 0.024916,
     "end_time": "2022-06-20T19:51:29.570437",
     "exception": false,
     "start_time": "2022-06-20T19:51:29.545521",
     "status": "completed"
    },
    "tags": []
   },
   "outputs": [
    {
     "name": "stdout",
     "output_type": "stream",
     "text": [
      " * sqlite:////kaggle/input/cia-factbook-data/factbook.db\n",
      "(sqlite3.OperationalError) no such table: cities\n",
      "[SQL: SELECT * FROM facts\n",
      "INNER JOIN cities ON facts.id == cities.facts_id\n",
      "LIMIT 10]\n",
      "(Background on this error at: https://sqlalche.me/e/14/e3q8)\n"
     ]
    }
   ],
   "source": [
    "%%sql\n",
    "\n",
    "SELECT * FROM facts\n",
    "INNER JOIN cities ON facts.id == cities.facts_id\n",
    "LIMIT 10"
   ]
  },
  {
   "cell_type": "code",
   "execution_count": 20,
   "id": "e33eea9d",
   "metadata": {
    "execution": {
     "iopub.execute_input": "2022-06-20T19:51:29.601156Z",
     "iopub.status.busy": "2022-06-20T19:51:29.600726Z",
     "iopub.status.idle": "2022-06-20T19:51:29.609151Z",
     "shell.execute_reply": "2022-06-20T19:51:29.608165Z"
    },
    "papermill": {
     "duration": 0.026,
     "end_time": "2022-06-20T19:51:29.611195",
     "exception": false,
     "start_time": "2022-06-20T19:51:29.585195",
     "status": "completed"
    },
    "tags": []
   },
   "outputs": [
    {
     "name": "stdout",
     "output_type": "stream",
     "text": [
      " * sqlite:////kaggle/input/cia-factbook-data/factbook.db\n",
      "(sqlite3.OperationalError) no such table: cities\n",
      "[SQL: SELECT C.NAME capital_city, F.NAME country, C.population \n",
      "FROM facts f\n",
      "INNER JOIN  cities c ON c.facts_id == f.id\n",
      "WHERE c.capital == 1\n",
      "ORDER BY c.population DESC\n",
      "LIMIT 10]\n",
      "(Background on this error at: https://sqlalche.me/e/14/e3q8)\n"
     ]
    }
   ],
   "source": [
    "%%sql \n",
    "SELECT C.NAME capital_city, F.NAME country, C.population \n",
    "FROM facts f\n",
    "INNER JOIN  cities c ON c.facts_id == f.id\n",
    "WHERE c.capital == 1\n",
    "ORDER BY c.population DESC\n",
    "LIMIT 10"
   ]
  },
  {
   "cell_type": "code",
   "execution_count": 21,
   "id": "cefe9b95",
   "metadata": {
    "execution": {
     "iopub.execute_input": "2022-06-20T19:51:29.641808Z",
     "iopub.status.busy": "2022-06-20T19:51:29.641255Z",
     "iopub.status.idle": "2022-06-20T19:51:29.652738Z",
     "shell.execute_reply": "2022-06-20T19:51:29.651220Z"
    },
    "papermill": {
     "duration": 0.029289,
     "end_time": "2022-06-20T19:51:29.655017",
     "exception": false,
     "start_time": "2022-06-20T19:51:29.625728",
     "status": "completed"
    },
    "tags": []
   },
   "outputs": [
    {
     "name": "stdout",
     "output_type": "stream",
     "text": [
      " * sqlite:////kaggle/input/cia-factbook-data/factbook.db\n",
      "(sqlite3.OperationalError) no such table: cities\n",
      "[SQL: SELECT \n",
      "    f.name country, \n",
      "    c.urban_pop, \n",
      "    f.population total_pop, \n",
      "    c.urban_pop / CAST(f.population AS float) urban_pct\n",
      "FROM facts f\n",
      "\n",
      "INNER JOIN (\n",
      "            SELECT \n",
      "                facts_id,\n",
      "                SUM(population) urban_pop\n",
      "            FROM\n",
      "                cities\n",
      "            GROUP BY facts_id\n",
      "            ) c ON c.facts_id == f.id\n",
      "WHERE urban_pct > .5\n",
      "ORDER BY urban_pct]\n",
      "(Background on this error at: https://sqlalche.me/e/14/e3q8)\n"
     ]
    }
   ],
   "source": [
    "%%sql\n",
    "\n",
    "SELECT \n",
    "    f.name country, \n",
    "    c.urban_pop, \n",
    "    f.population total_pop, \n",
    "    c.urban_pop / CAST(f.population AS float) urban_pct\n",
    "FROM facts f\n",
    "\n",
    "INNER JOIN (\n",
    "            SELECT \n",
    "                facts_id,\n",
    "                SUM(population) urban_pop\n",
    "            FROM\n",
    "                cities\n",
    "            GROUP BY facts_id\n",
    "            ) c ON c.facts_id == f.id\n",
    "WHERE urban_pct > .5\n",
    "ORDER BY urban_pct "
   ]
  }
 ],
 "metadata": {
  "kernelspec": {
   "display_name": "Python 3",
   "language": "python",
   "name": "python3"
  },
  "language_info": {
   "codemirror_mode": {
    "name": "ipython",
    "version": 3
   },
   "file_extension": ".py",
   "mimetype": "text/x-python",
   "name": "python",
   "nbconvert_exporter": "python",
   "pygments_lexer": "ipython3",
   "version": "3.7.12"
  },
  "papermill": {
   "default_parameters": {},
   "duration": 44.192853,
   "end_time": "2022-06-20T19:51:30.291651",
   "environment_variables": {},
   "exception": null,
   "input_path": "__notebook__.ipynb",
   "output_path": "__notebook__.ipynb",
   "parameters": {},
   "start_time": "2022-06-20T19:50:46.098798",
   "version": "2.3.4"
  }
 },
 "nbformat": 4,
 "nbformat_minor": 5
}
